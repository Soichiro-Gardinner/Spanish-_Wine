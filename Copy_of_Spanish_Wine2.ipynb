{
  "nbformat": 4,
  "nbformat_minor": 0,
  "metadata": {
    "colab": {
      "provenance": [],
      "authorship_tag": "ABX9TyO02NiD7zggwjMOuxECwGk7",
      "include_colab_link": true
    },
    "kernelspec": {
      "name": "python3",
      "display_name": "Python 3"
    },
    "language_info": {
      "name": "python"
    }
  },
  "cells": [
    {
      "cell_type": "markdown",
      "metadata": {
        "id": "view-in-github",
        "colab_type": "text"
      },
      "source": [
        "<a href=\"https://colab.research.google.com/github/Soichiro-Gardinner/Spanish-_Wine/blob/main/Copy_of_Spanish_Wine2.ipynb\" target=\"_parent\"><img src=\"https://colab.research.google.com/assets/colab-badge.svg\" alt=\"Open In Colab\"/></a>"
      ]
    },
    {
      "cell_type": "markdown",
      "source": [
        "# **Spanish Wine**\n",
        "- **From:** Kaggle\n",
        "- **By:** Oscar C.\n",
        "- **Date:** 4/14/2023"
      ],
      "metadata": {
        "id": "f7T4NjirEqCA"
      }
    },
    {
      "cell_type": "code",
      "source": [
        "# Import libraries:\n",
        "import pandas as pd"
      ],
      "metadata": {
        "id": "QWh668AC_-Jt"
      },
      "execution_count": 1,
      "outputs": []
    },
    {
      "cell_type": "code",
      "execution_count": 2,
      "metadata": {
        "colab": {
          "base_uri": "https://localhost:8080/",
          "height": 1000
        },
        "id": "QGfW778L9zbz",
        "outputId": "29369c43-0f52-4eeb-bb95-26c39f4489ad"
      },
      "outputs": [
        {
          "output_type": "execute_result",
          "data": {
            "text/plain": [
              "                 winery                            wine  year  rating  \\\n",
              "0         Teso La Monja                           Tinto  2013     4.9   \n",
              "1                Artadi                   Vina El Pison  2018     4.9   \n",
              "2          Vega Sicilia                           Unico  2009     4.8   \n",
              "3          Vega Sicilia                           Unico  1999     4.8   \n",
              "4          Vega Sicilia                           Unico  1996     4.8   \n",
              "5          Vega Sicilia                           Unico  1998     4.8   \n",
              "6          Vega Sicilia                           Unico  2010     4.8   \n",
              "7          Vega Sicilia                           Unico  1995     4.8   \n",
              "8          Vega Sicilia  Unico Reserva Especial Edicion  2015     4.8   \n",
              "9          Vega Sicilia                           Unico  2011     4.8   \n",
              "10         Vega Sicilia  Unico Reserva Especial Edicion  2016     4.8   \n",
              "11  Pago de Carraovejas                       El Anejon  2016     4.8   \n",
              "12         Vega Sicilia  Unico Reserva Especial Edicion  2018     4.8   \n",
              "13         Vega Sicilia                           Unico  1970     4.8   \n",
              "14          Toro Albala       Don PX Convento Seleccion  1946     4.8   \n",
              "15  Pago de Carraovejas           Cuesta de Las Liebres  2015     4.8   \n",
              "16         Vega Sicilia                           Unico  1962     4.8   \n",
              "17         Vega Sicilia  Unico Reserva Especial Edicion  2019     4.8   \n",
              "18      Bodegas El Nido                         El Nido  2018     4.8   \n",
              "19         Vega Sicilia  Unico Reserva Especial Edicion  2004     4.8   \n",
              "\n",
              "    num_reviews country            region       price                  type  \\\n",
              "0            58  Espana              Toro   995.00000              Toro Red   \n",
              "1            31  Espana    Vino de Espana   313.50000           Tempranillo   \n",
              "2          1793  Espana  Ribera del Duero   324.95000  Ribera Del Duero Red   \n",
              "3          1705  Espana  Ribera del Duero   692.96000  Ribera Del Duero Red   \n",
              "4          1309  Espana  Ribera del Duero   778.06000  Ribera Del Duero Red   \n",
              "5          1209  Espana  Ribera del Duero   490.00000  Ribera Del Duero Red   \n",
              "6          1201  Espana  Ribera del Duero   349.00000  Ribera Del Duero Red   \n",
              "7           926  Espana  Ribera del Duero   810.89000  Ribera Del Duero Red   \n",
              "8           643  Espana  Ribera del Duero   345.00000  Ribera Del Duero Red   \n",
              "9           630  Espana  Ribera del Duero   315.00000  Ribera Del Duero Red   \n",
              "10          591  Espana  Ribera del Duero   514.85000  Ribera Del Duero Red   \n",
              "11          454  Espana  Ribera del Duero   105.15000  Ribera Del Duero Red   \n",
              "12          438  Espana  Ribera del Duero   430.00000  Ribera Del Duero Red   \n",
              "13          417  Espana  Ribera del Duero   925.00000  Ribera Del Duero Red   \n",
              "14          398  Espana  Montilla-Moriles   350.00000         Pedro Ximenez   \n",
              "15          372  Espana  Ribera del Duero   166.18000  Ribera Del Duero Red   \n",
              "16          295  Espana  Ribera del Duero  1620.00000  Ribera Del Duero Red   \n",
              "17          250  Espana  Ribera del Duero   431.36000  Ribera Del Duero Red   \n",
              "18          217  Espana           Jumilla   195.62738                   Red   \n",
              "19          211  Espana  Ribera del Duero   824.43000  Ribera Del Duero Red   \n",
              "\n",
              "    body  acidity  \n",
              "0    5.0      3.0  \n",
              "1    4.0      2.0  \n",
              "2    5.0      3.0  \n",
              "3    5.0      3.0  \n",
              "4    5.0      3.0  \n",
              "5    5.0      3.0  \n",
              "6    5.0      3.0  \n",
              "7    5.0      3.0  \n",
              "8    5.0      3.0  \n",
              "9    5.0      3.0  \n",
              "10   5.0      3.0  \n",
              "11   5.0      3.0  \n",
              "12   5.0      3.0  \n",
              "13   5.0      3.0  \n",
              "14   5.0      1.0  \n",
              "15   5.0      3.0  \n",
              "16   5.0      3.0  \n",
              "17   5.0      3.0  \n",
              "18   4.0      3.0  \n",
              "19   5.0      3.0  "
            ],
            "text/html": [
              "\n",
              "  <div id=\"df-e3664dfb-6667-492e-96c2-4d8e4dd2b3b8\">\n",
              "    <div class=\"colab-df-container\">\n",
              "      <div>\n",
              "<style scoped>\n",
              "    .dataframe tbody tr th:only-of-type {\n",
              "        vertical-align: middle;\n",
              "    }\n",
              "\n",
              "    .dataframe tbody tr th {\n",
              "        vertical-align: top;\n",
              "    }\n",
              "\n",
              "    .dataframe thead th {\n",
              "        text-align: right;\n",
              "    }\n",
              "</style>\n",
              "<table border=\"1\" class=\"dataframe\">\n",
              "  <thead>\n",
              "    <tr style=\"text-align: right;\">\n",
              "      <th></th>\n",
              "      <th>winery</th>\n",
              "      <th>wine</th>\n",
              "      <th>year</th>\n",
              "      <th>rating</th>\n",
              "      <th>num_reviews</th>\n",
              "      <th>country</th>\n",
              "      <th>region</th>\n",
              "      <th>price</th>\n",
              "      <th>type</th>\n",
              "      <th>body</th>\n",
              "      <th>acidity</th>\n",
              "    </tr>\n",
              "  </thead>\n",
              "  <tbody>\n",
              "    <tr>\n",
              "      <th>0</th>\n",
              "      <td>Teso La Monja</td>\n",
              "      <td>Tinto</td>\n",
              "      <td>2013</td>\n",
              "      <td>4.9</td>\n",
              "      <td>58</td>\n",
              "      <td>Espana</td>\n",
              "      <td>Toro</td>\n",
              "      <td>995.00000</td>\n",
              "      <td>Toro Red</td>\n",
              "      <td>5.0</td>\n",
              "      <td>3.0</td>\n",
              "    </tr>\n",
              "    <tr>\n",
              "      <th>1</th>\n",
              "      <td>Artadi</td>\n",
              "      <td>Vina El Pison</td>\n",
              "      <td>2018</td>\n",
              "      <td>4.9</td>\n",
              "      <td>31</td>\n",
              "      <td>Espana</td>\n",
              "      <td>Vino de Espana</td>\n",
              "      <td>313.50000</td>\n",
              "      <td>Tempranillo</td>\n",
              "      <td>4.0</td>\n",
              "      <td>2.0</td>\n",
              "    </tr>\n",
              "    <tr>\n",
              "      <th>2</th>\n",
              "      <td>Vega Sicilia</td>\n",
              "      <td>Unico</td>\n",
              "      <td>2009</td>\n",
              "      <td>4.8</td>\n",
              "      <td>1793</td>\n",
              "      <td>Espana</td>\n",
              "      <td>Ribera del Duero</td>\n",
              "      <td>324.95000</td>\n",
              "      <td>Ribera Del Duero Red</td>\n",
              "      <td>5.0</td>\n",
              "      <td>3.0</td>\n",
              "    </tr>\n",
              "    <tr>\n",
              "      <th>3</th>\n",
              "      <td>Vega Sicilia</td>\n",
              "      <td>Unico</td>\n",
              "      <td>1999</td>\n",
              "      <td>4.8</td>\n",
              "      <td>1705</td>\n",
              "      <td>Espana</td>\n",
              "      <td>Ribera del Duero</td>\n",
              "      <td>692.96000</td>\n",
              "      <td>Ribera Del Duero Red</td>\n",
              "      <td>5.0</td>\n",
              "      <td>3.0</td>\n",
              "    </tr>\n",
              "    <tr>\n",
              "      <th>4</th>\n",
              "      <td>Vega Sicilia</td>\n",
              "      <td>Unico</td>\n",
              "      <td>1996</td>\n",
              "      <td>4.8</td>\n",
              "      <td>1309</td>\n",
              "      <td>Espana</td>\n",
              "      <td>Ribera del Duero</td>\n",
              "      <td>778.06000</td>\n",
              "      <td>Ribera Del Duero Red</td>\n",
              "      <td>5.0</td>\n",
              "      <td>3.0</td>\n",
              "    </tr>\n",
              "    <tr>\n",
              "      <th>5</th>\n",
              "      <td>Vega Sicilia</td>\n",
              "      <td>Unico</td>\n",
              "      <td>1998</td>\n",
              "      <td>4.8</td>\n",
              "      <td>1209</td>\n",
              "      <td>Espana</td>\n",
              "      <td>Ribera del Duero</td>\n",
              "      <td>490.00000</td>\n",
              "      <td>Ribera Del Duero Red</td>\n",
              "      <td>5.0</td>\n",
              "      <td>3.0</td>\n",
              "    </tr>\n",
              "    <tr>\n",
              "      <th>6</th>\n",
              "      <td>Vega Sicilia</td>\n",
              "      <td>Unico</td>\n",
              "      <td>2010</td>\n",
              "      <td>4.8</td>\n",
              "      <td>1201</td>\n",
              "      <td>Espana</td>\n",
              "      <td>Ribera del Duero</td>\n",
              "      <td>349.00000</td>\n",
              "      <td>Ribera Del Duero Red</td>\n",
              "      <td>5.0</td>\n",
              "      <td>3.0</td>\n",
              "    </tr>\n",
              "    <tr>\n",
              "      <th>7</th>\n",
              "      <td>Vega Sicilia</td>\n",
              "      <td>Unico</td>\n",
              "      <td>1995</td>\n",
              "      <td>4.8</td>\n",
              "      <td>926</td>\n",
              "      <td>Espana</td>\n",
              "      <td>Ribera del Duero</td>\n",
              "      <td>810.89000</td>\n",
              "      <td>Ribera Del Duero Red</td>\n",
              "      <td>5.0</td>\n",
              "      <td>3.0</td>\n",
              "    </tr>\n",
              "    <tr>\n",
              "      <th>8</th>\n",
              "      <td>Vega Sicilia</td>\n",
              "      <td>Unico Reserva Especial Edicion</td>\n",
              "      <td>2015</td>\n",
              "      <td>4.8</td>\n",
              "      <td>643</td>\n",
              "      <td>Espana</td>\n",
              "      <td>Ribera del Duero</td>\n",
              "      <td>345.00000</td>\n",
              "      <td>Ribera Del Duero Red</td>\n",
              "      <td>5.0</td>\n",
              "      <td>3.0</td>\n",
              "    </tr>\n",
              "    <tr>\n",
              "      <th>9</th>\n",
              "      <td>Vega Sicilia</td>\n",
              "      <td>Unico</td>\n",
              "      <td>2011</td>\n",
              "      <td>4.8</td>\n",
              "      <td>630</td>\n",
              "      <td>Espana</td>\n",
              "      <td>Ribera del Duero</td>\n",
              "      <td>315.00000</td>\n",
              "      <td>Ribera Del Duero Red</td>\n",
              "      <td>5.0</td>\n",
              "      <td>3.0</td>\n",
              "    </tr>\n",
              "    <tr>\n",
              "      <th>10</th>\n",
              "      <td>Vega Sicilia</td>\n",
              "      <td>Unico Reserva Especial Edicion</td>\n",
              "      <td>2016</td>\n",
              "      <td>4.8</td>\n",
              "      <td>591</td>\n",
              "      <td>Espana</td>\n",
              "      <td>Ribera del Duero</td>\n",
              "      <td>514.85000</td>\n",
              "      <td>Ribera Del Duero Red</td>\n",
              "      <td>5.0</td>\n",
              "      <td>3.0</td>\n",
              "    </tr>\n",
              "    <tr>\n",
              "      <th>11</th>\n",
              "      <td>Pago de Carraovejas</td>\n",
              "      <td>El Anejon</td>\n",
              "      <td>2016</td>\n",
              "      <td>4.8</td>\n",
              "      <td>454</td>\n",
              "      <td>Espana</td>\n",
              "      <td>Ribera del Duero</td>\n",
              "      <td>105.15000</td>\n",
              "      <td>Ribera Del Duero Red</td>\n",
              "      <td>5.0</td>\n",
              "      <td>3.0</td>\n",
              "    </tr>\n",
              "    <tr>\n",
              "      <th>12</th>\n",
              "      <td>Vega Sicilia</td>\n",
              "      <td>Unico Reserva Especial Edicion</td>\n",
              "      <td>2018</td>\n",
              "      <td>4.8</td>\n",
              "      <td>438</td>\n",
              "      <td>Espana</td>\n",
              "      <td>Ribera del Duero</td>\n",
              "      <td>430.00000</td>\n",
              "      <td>Ribera Del Duero Red</td>\n",
              "      <td>5.0</td>\n",
              "      <td>3.0</td>\n",
              "    </tr>\n",
              "    <tr>\n",
              "      <th>13</th>\n",
              "      <td>Vega Sicilia</td>\n",
              "      <td>Unico</td>\n",
              "      <td>1970</td>\n",
              "      <td>4.8</td>\n",
              "      <td>417</td>\n",
              "      <td>Espana</td>\n",
              "      <td>Ribera del Duero</td>\n",
              "      <td>925.00000</td>\n",
              "      <td>Ribera Del Duero Red</td>\n",
              "      <td>5.0</td>\n",
              "      <td>3.0</td>\n",
              "    </tr>\n",
              "    <tr>\n",
              "      <th>14</th>\n",
              "      <td>Toro Albala</td>\n",
              "      <td>Don PX Convento Seleccion</td>\n",
              "      <td>1946</td>\n",
              "      <td>4.8</td>\n",
              "      <td>398</td>\n",
              "      <td>Espana</td>\n",
              "      <td>Montilla-Moriles</td>\n",
              "      <td>350.00000</td>\n",
              "      <td>Pedro Ximenez</td>\n",
              "      <td>5.0</td>\n",
              "      <td>1.0</td>\n",
              "    </tr>\n",
              "    <tr>\n",
              "      <th>15</th>\n",
              "      <td>Pago de Carraovejas</td>\n",
              "      <td>Cuesta de Las Liebres</td>\n",
              "      <td>2015</td>\n",
              "      <td>4.8</td>\n",
              "      <td>372</td>\n",
              "      <td>Espana</td>\n",
              "      <td>Ribera del Duero</td>\n",
              "      <td>166.18000</td>\n",
              "      <td>Ribera Del Duero Red</td>\n",
              "      <td>5.0</td>\n",
              "      <td>3.0</td>\n",
              "    </tr>\n",
              "    <tr>\n",
              "      <th>16</th>\n",
              "      <td>Vega Sicilia</td>\n",
              "      <td>Unico</td>\n",
              "      <td>1962</td>\n",
              "      <td>4.8</td>\n",
              "      <td>295</td>\n",
              "      <td>Espana</td>\n",
              "      <td>Ribera del Duero</td>\n",
              "      <td>1620.00000</td>\n",
              "      <td>Ribera Del Duero Red</td>\n",
              "      <td>5.0</td>\n",
              "      <td>3.0</td>\n",
              "    </tr>\n",
              "    <tr>\n",
              "      <th>17</th>\n",
              "      <td>Vega Sicilia</td>\n",
              "      <td>Unico Reserva Especial Edicion</td>\n",
              "      <td>2019</td>\n",
              "      <td>4.8</td>\n",
              "      <td>250</td>\n",
              "      <td>Espana</td>\n",
              "      <td>Ribera del Duero</td>\n",
              "      <td>431.36000</td>\n",
              "      <td>Ribera Del Duero Red</td>\n",
              "      <td>5.0</td>\n",
              "      <td>3.0</td>\n",
              "    </tr>\n",
              "    <tr>\n",
              "      <th>18</th>\n",
              "      <td>Bodegas El Nido</td>\n",
              "      <td>El Nido</td>\n",
              "      <td>2018</td>\n",
              "      <td>4.8</td>\n",
              "      <td>217</td>\n",
              "      <td>Espana</td>\n",
              "      <td>Jumilla</td>\n",
              "      <td>195.62738</td>\n",
              "      <td>Red</td>\n",
              "      <td>4.0</td>\n",
              "      <td>3.0</td>\n",
              "    </tr>\n",
              "    <tr>\n",
              "      <th>19</th>\n",
              "      <td>Vega Sicilia</td>\n",
              "      <td>Unico Reserva Especial Edicion</td>\n",
              "      <td>2004</td>\n",
              "      <td>4.8</td>\n",
              "      <td>211</td>\n",
              "      <td>Espana</td>\n",
              "      <td>Ribera del Duero</td>\n",
              "      <td>824.43000</td>\n",
              "      <td>Ribera Del Duero Red</td>\n",
              "      <td>5.0</td>\n",
              "      <td>3.0</td>\n",
              "    </tr>\n",
              "  </tbody>\n",
              "</table>\n",
              "</div>\n",
              "      <button class=\"colab-df-convert\" onclick=\"convertToInteractive('df-e3664dfb-6667-492e-96c2-4d8e4dd2b3b8')\"\n",
              "              title=\"Convert this dataframe to an interactive table.\"\n",
              "              style=\"display:none;\">\n",
              "        \n",
              "  <svg xmlns=\"http://www.w3.org/2000/svg\" height=\"24px\"viewBox=\"0 0 24 24\"\n",
              "       width=\"24px\">\n",
              "    <path d=\"M0 0h24v24H0V0z\" fill=\"none\"/>\n",
              "    <path d=\"M18.56 5.44l.94 2.06.94-2.06 2.06-.94-2.06-.94-.94-2.06-.94 2.06-2.06.94zm-11 1L8.5 8.5l.94-2.06 2.06-.94-2.06-.94L8.5 2.5l-.94 2.06-2.06.94zm10 10l.94 2.06.94-2.06 2.06-.94-2.06-.94-.94-2.06-.94 2.06-2.06.94z\"/><path d=\"M17.41 7.96l-1.37-1.37c-.4-.4-.92-.59-1.43-.59-.52 0-1.04.2-1.43.59L10.3 9.45l-7.72 7.72c-.78.78-.78 2.05 0 2.83L4 21.41c.39.39.9.59 1.41.59.51 0 1.02-.2 1.41-.59l7.78-7.78 2.81-2.81c.8-.78.8-2.07 0-2.86zM5.41 20L4 18.59l7.72-7.72 1.47 1.35L5.41 20z\"/>\n",
              "  </svg>\n",
              "      </button>\n",
              "      \n",
              "  <style>\n",
              "    .colab-df-container {\n",
              "      display:flex;\n",
              "      flex-wrap:wrap;\n",
              "      gap: 12px;\n",
              "    }\n",
              "\n",
              "    .colab-df-convert {\n",
              "      background-color: #E8F0FE;\n",
              "      border: none;\n",
              "      border-radius: 50%;\n",
              "      cursor: pointer;\n",
              "      display: none;\n",
              "      fill: #1967D2;\n",
              "      height: 32px;\n",
              "      padding: 0 0 0 0;\n",
              "      width: 32px;\n",
              "    }\n",
              "\n",
              "    .colab-df-convert:hover {\n",
              "      background-color: #E2EBFA;\n",
              "      box-shadow: 0px 1px 2px rgba(60, 64, 67, 0.3), 0px 1px 3px 1px rgba(60, 64, 67, 0.15);\n",
              "      fill: #174EA6;\n",
              "    }\n",
              "\n",
              "    [theme=dark] .colab-df-convert {\n",
              "      background-color: #3B4455;\n",
              "      fill: #D2E3FC;\n",
              "    }\n",
              "\n",
              "    [theme=dark] .colab-df-convert:hover {\n",
              "      background-color: #434B5C;\n",
              "      box-shadow: 0px 1px 3px 1px rgba(0, 0, 0, 0.15);\n",
              "      filter: drop-shadow(0px 1px 2px rgba(0, 0, 0, 0.3));\n",
              "      fill: #FFFFFF;\n",
              "    }\n",
              "  </style>\n",
              "\n",
              "      <script>\n",
              "        const buttonEl =\n",
              "          document.querySelector('#df-e3664dfb-6667-492e-96c2-4d8e4dd2b3b8 button.colab-df-convert');\n",
              "        buttonEl.style.display =\n",
              "          google.colab.kernel.accessAllowed ? 'block' : 'none';\n",
              "\n",
              "        async function convertToInteractive(key) {\n",
              "          const element = document.querySelector('#df-e3664dfb-6667-492e-96c2-4d8e4dd2b3b8');\n",
              "          const dataTable =\n",
              "            await google.colab.kernel.invokeFunction('convertToInteractive',\n",
              "                                                     [key], {});\n",
              "          if (!dataTable) return;\n",
              "\n",
              "          const docLinkHtml = 'Like what you see? Visit the ' +\n",
              "            '<a target=\"_blank\" href=https://colab.research.google.com/notebooks/data_table.ipynb>data table notebook</a>'\n",
              "            + ' to learn more about interactive tables.';\n",
              "          element.innerHTML = '';\n",
              "          dataTable['output_type'] = 'display_data';\n",
              "          await google.colab.output.renderOutput(dataTable, element);\n",
              "          const docLink = document.createElement('div');\n",
              "          docLink.innerHTML = docLinkHtml;\n",
              "          element.appendChild(docLink);\n",
              "        }\n",
              "      </script>\n",
              "    </div>\n",
              "  </div>\n",
              "  "
            ]
          },
          "metadata": {},
          "execution_count": 2
        }
      ],
      "source": [
        "# Read_Wine Data\n",
        "S_wine = \"/content/wines_SPA.csv\"\n",
        "df = pd.read_csv(S_wine)\n",
        "df.head(20)"
      ]
    },
    {
      "cell_type": "code",
      "source": [
        "# Looking for nulls and Data types\n",
        "df.info()"
      ],
      "metadata": {
        "colab": {
          "base_uri": "https://localhost:8080/"
        },
        "id": "G8WcBgbJAPRs",
        "outputId": "db320e11-0d18-4923-8166-aabca019b6d1"
      },
      "execution_count": 3,
      "outputs": [
        {
          "output_type": "stream",
          "name": "stdout",
          "text": [
            "<class 'pandas.core.frame.DataFrame'>\n",
            "RangeIndex: 7500 entries, 0 to 7499\n",
            "Data columns (total 11 columns):\n",
            " #   Column       Non-Null Count  Dtype  \n",
            "---  ------       --------------  -----  \n",
            " 0   winery       7500 non-null   object \n",
            " 1   wine         7500 non-null   object \n",
            " 2   year         7498 non-null   object \n",
            " 3   rating       7500 non-null   float64\n",
            " 4   num_reviews  7500 non-null   int64  \n",
            " 5   country      7500 non-null   object \n",
            " 6   region       7500 non-null   object \n",
            " 7   price        7500 non-null   float64\n",
            " 8   type         6955 non-null   object \n",
            " 9   body         6331 non-null   float64\n",
            " 10  acidity      6331 non-null   float64\n",
            "dtypes: float64(4), int64(1), object(6)\n",
            "memory usage: 644.7+ KB\n"
          ]
        }
      ]
    },
    {
      "cell_type": "code",
      "source": [
        "df.shape"
      ],
      "metadata": {
        "colab": {
          "base_uri": "https://localhost:8080/"
        },
        "id": "j0TRGqeVQRQC",
        "outputId": "651abddf-dc2f-42e3-8fb7-86ba65a25d4a"
      },
      "execution_count": 4,
      "outputs": [
        {
          "output_type": "execute_result",
          "data": {
            "text/plain": [
              "(7500, 11)"
            ]
          },
          "metadata": {},
          "execution_count": 4
        }
      ]
    },
    {
      "cell_type": "markdown",
      "source": [
        "**Delete unnecessary columns:**"
      ],
      "metadata": {
        "id": "-adVZ_pAYVLg"
      }
    },
    {
      "cell_type": "code",
      "source": [
        "# Delete unnecessary columns\n",
        "df.drop(['winery', 'type'], axis=1, inplace=True)"
      ],
      "metadata": {
        "id": "7Ps9AcMTYi85"
      },
      "execution_count": 5,
      "outputs": []
    },
    {
      "cell_type": "markdown",
      "source": [
        "**Delete duplicate rows:**\n"
      ],
      "metadata": {
        "id": "tHRyti-gYn_L"
      }
    },
    {
      "cell_type": "code",
      "source": [
        "# Drop duplicates\n",
        "df.drop_duplicates(inplace=True)"
      ],
      "metadata": {
        "id": "8Hj_jxX3YvyW"
      },
      "execution_count": 6,
      "outputs": []
    },
    {
      "cell_type": "markdown",
      "source": [
        "**Identify and address missing values:**"
      ],
      "metadata": {
        "id": "mCh5H0agZHcg"
      }
    },
    {
      "cell_type": "code",
      "source": [
        "# Identify:\n",
        "df.isna().sum()"
      ],
      "metadata": {
        "colab": {
          "base_uri": "https://localhost:8080/"
        },
        "id": "gq2q5LD2ZG6O",
        "outputId": "2af928df-99bc-4172-830c-498037c6c1a4"
      },
      "execution_count": 7,
      "outputs": [
        {
          "output_type": "execute_result",
          "data": {
            "text/plain": [
              "wine             0\n",
              "year             2\n",
              "rating           0\n",
              "num_reviews      0\n",
              "country          0\n",
              "region           0\n",
              "price            0\n",
              "body           271\n",
              "acidity        271\n",
              "dtype: int64"
            ]
          },
          "metadata": {},
          "execution_count": 7
        }
      ]
    },
    {
      "cell_type": "code",
      "source": [
        "# Fill in missing values with the mode for the 'year' column\n",
        "df['year'].fillna(df['year'].mode()[0], inplace=True)\n",
        "\n",
        "# Replace missing values with the median for the 'body' and 'acidity' columns\n",
        "df['body'].fillna(df['body'].median(), inplace=True)\n",
        "df['acidity'].fillna(df['acidity'].median(), inplace=True)"
      ],
      "metadata": {
        "id": "YZq3eNigZ9Z7"
      },
      "execution_count": 8,
      "outputs": []
    },
    {
      "cell_type": "code",
      "source": [
        "# Identify again:\n",
        "df.isna().sum()"
      ],
      "metadata": {
        "colab": {
          "base_uri": "https://localhost:8080/"
        },
        "id": "eATiFopfc464",
        "outputId": "e8c4a20f-f8fd-444f-dee0-2c54bf879e0a"
      },
      "execution_count": 9,
      "outputs": [
        {
          "output_type": "execute_result",
          "data": {
            "text/plain": [
              "wine           0\n",
              "year           0\n",
              "rating         0\n",
              "num_reviews    0\n",
              "country        0\n",
              "region         0\n",
              "price          0\n",
              "body           0\n",
              "acidity        0\n",
              "dtype: int64"
            ]
          },
          "metadata": {},
          "execution_count": 9
        }
      ]
    },
    {
      "cell_type": "markdown",
      "source": [
        "**Inconcistencies:**"
      ],
      "metadata": {
        "id": "TveYNqUYfgE2"
      }
    },
    {
      "cell_type": "code",
      "source": [
        "for i in df.columns:\n",
        "  print(f\"\\n{df[i].value_counts}\")"
      ],
      "metadata": {
        "colab": {
          "base_uri": "https://localhost:8080/"
        },
        "id": "jcp07Wo0fjzj",
        "outputId": "f5a5eacb-87c6-444b-8b42-ad1b8780ced4"
      },
      "execution_count": 10,
      "outputs": [
        {
          "output_type": "stream",
          "name": "stdout",
          "text": [
            "\n",
            "<bound method IndexOpsMixin.value_counts of 0                 Tinto\n",
            "1         Vina El Pison\n",
            "2                 Unico\n",
            "3                 Unico\n",
            "4                 Unico\n",
            "             ...       \n",
            "2046    Finca Terrerazo\n",
            "2047       Gran Reserva\n",
            "2048           Preludio\n",
            "2049         El Puntido\n",
            "6100       Rioja Blanco\n",
            "Name: wine, Length: 2048, dtype: object>\n",
            "\n",
            "<bound method IndexOpsMixin.value_counts of 0       2013\n",
            "1       2018\n",
            "2       2009\n",
            "3       1999\n",
            "4       1996\n",
            "        ... \n",
            "2046    2017\n",
            "2047    2011\n",
            "2048    2016\n",
            "2049    2005\n",
            "6100    2017\n",
            "Name: year, Length: 2048, dtype: object>\n",
            "\n",
            "<bound method IndexOpsMixin.value_counts of 0       4.9\n",
            "1       4.9\n",
            "2       4.8\n",
            "3       4.8\n",
            "4       4.8\n",
            "       ... \n",
            "2046    4.2\n",
            "2047    4.2\n",
            "2048    4.2\n",
            "2049    4.2\n",
            "6100    4.2\n",
            "Name: rating, Length: 2048, dtype: float64>\n",
            "\n",
            "<bound method IndexOpsMixin.value_counts of 0         58\n",
            "1         31\n",
            "2       1793\n",
            "3       1705\n",
            "4       1309\n",
            "        ... \n",
            "2046     390\n",
            "2047     389\n",
            "2048     388\n",
            "2049     384\n",
            "6100     421\n",
            "Name: num_reviews, Length: 2048, dtype: int64>\n",
            "\n",
            "<bound method IndexOpsMixin.value_counts of 0       Espana\n",
            "1       Espana\n",
            "2       Espana\n",
            "3       Espana\n",
            "4       Espana\n",
            "         ...  \n",
            "2046    Espana\n",
            "2047    Espana\n",
            "2048    Espana\n",
            "2049    Espana\n",
            "6100    Espana\n",
            "Name: country, Length: 2048, dtype: object>\n",
            "\n",
            "<bound method IndexOpsMixin.value_counts of 0                   Toro\n",
            "1         Vino de Espana\n",
            "2       Ribera del Duero\n",
            "3       Ribera del Duero\n",
            "4       Ribera del Duero\n",
            "              ...       \n",
            "2046        El Terrerazo\n",
            "2047    Ribera del Duero\n",
            "2048    Ribera del Duero\n",
            "2049               Rioja\n",
            "6100               Rioja\n",
            "Name: region, Length: 2048, dtype: object>\n",
            "\n",
            "<bound method IndexOpsMixin.value_counts of 0       995.00\n",
            "1       313.50\n",
            "2       324.95\n",
            "3       692.96\n",
            "4       778.06\n",
            "         ...  \n",
            "2046     24.45\n",
            "2047     64.50\n",
            "2048     31.63\n",
            "2049     73.00\n",
            "6100     29.15\n",
            "Name: price, Length: 2048, dtype: float64>\n",
            "\n",
            "<bound method IndexOpsMixin.value_counts of 0       5.0\n",
            "1       4.0\n",
            "2       5.0\n",
            "3       5.0\n",
            "4       5.0\n",
            "       ... \n",
            "2046    4.0\n",
            "2047    5.0\n",
            "2048    5.0\n",
            "2049    4.0\n",
            "6100    4.0\n",
            "Name: body, Length: 2048, dtype: float64>\n",
            "\n",
            "<bound method IndexOpsMixin.value_counts of 0       3.0\n",
            "1       2.0\n",
            "2       3.0\n",
            "3       3.0\n",
            "4       3.0\n",
            "       ... \n",
            "2046    3.0\n",
            "2047    3.0\n",
            "2048    3.0\n",
            "2049    3.0\n",
            "6100    3.0\n",
            "Name: acidity, Length: 2048, dtype: float64>\n"
          ]
        }
      ]
    },
    {
      "cell_type": "markdown",
      "source": [
        "### **<font color='#ffd966'>[NOTE]</font>**\n",
        "- in this ocation we were unable to find **Inconsistencies**, but we will probably find some when we start to prepare our data for machine learning. "
      ],
      "metadata": {
        "id": "bAcVJz69guIw"
      }
    },
    {
      "cell_type": "markdown",
      "source": [
        "# **<font color='#a966'>Part 3</font>**"
      ],
      "metadata": {
        "id": "4ZSqtzws6o3z"
      }
    },
    {
      "cell_type": "code",
      "source": [
        "import seaborn as sns\n",
        "import matplotlib.pyplot as plt\n",
        "\n",
        "# Create a correlation matrix\n",
        "corr = df.corr()\n",
        "\n",
        "# Create a heatmap to visualize correlations\n",
        "sns.heatmap(corr, annot=True, cmap=\"coolwarm\")\n",
        "plt.title(\"Correlation Heatmap\")\n",
        "plt.show()"
      ],
      "metadata": {
        "colab": {
          "base_uri": "https://localhost:8080/",
          "height": 507
        },
        "id": "2PNieWsm30QJ",
        "outputId": "46dae19f-8247-42bb-8bfc-bfe7b93ddb88"
      },
      "execution_count": 11,
      "outputs": [
        {
          "output_type": "stream",
          "name": "stderr",
          "text": [
            "<ipython-input-11-edbc11fe9ec9>:5: FutureWarning: The default value of numeric_only in DataFrame.corr is deprecated. In a future version, it will default to False. Select only valid columns or specify the value of numeric_only to silence this warning.\n",
            "  corr = df.corr()\n"
          ]
        },
        {
          "output_type": "display_data",
          "data": {
            "text/plain": [
              "<Figure size 640x480 with 2 Axes>"
            ],
            "image/png": "[encoded data removed]"
          },
          "metadata": {}
        }
      ]
    },
    {
      "cell_type": "markdown",
      "source": [
        "### **Heat Map**\n",
        "- The correlation heatmap provides a visual representation of the relationships between different features in the Wine dataset. Darker colors indicate stronger correlations. This plot helps us identify any significant correlations that may exist between variables."
      ],
      "metadata": {
        "id": "Ny7D4NQD9DD0"
      }
    },
    {
      "cell_type": "markdown",
      "source": [
        "# **Multivariate Exploratory Visualizations**\n",
        "Next, we will create multivariate exploratory visualizations to further understand the data and search for trends."
      ],
      "metadata": {
        "id": "ui_0wmAg-MmQ"
      }
    },
    {
      "cell_type": "code",
      "source": [
        "# Scatter plot of Body vs. Acidity\n",
        "#plt.figure(figsize=(8, 6))\n",
        "sns.scatterplot(x='body', y='acidity', data=df)\n",
        "plt.title(\"Body vs. Acidity\")\n",
        "plt.xlabel(\"Body\")\n",
        "plt.ylabel(\"Acidity\")\n",
        "plt.show()"
      ],
      "metadata": {
        "colab": {
          "base_uri": "https://localhost:8080/",
          "height": 472
        },
        "id": "3esLPt2l8zMm",
        "outputId": "c56f7a84-8cff-4376-c613-6c2e40c1183c"
      },
      "execution_count": 12,
      "outputs": [
        {
          "output_type": "display_data",
          "data": {
            "text/plain": [
              "<Figure size 640x480 with 1 Axes>"
            ],
            "image/png": "[encoded data removed]"
          },
          "metadata": {}
        }
      ]
    },
    {
      "cell_type": "markdown",
      "source": [
        "## Scatterplot\n",
        "- In this scatter plot, we compare the body and acidity of wines. The x-axis represents the body, while the y-axis represents the acidity. By examining the distribution of data points, we can observe any potential relationship or trend between these two variables."
      ],
      "metadata": {
        "id": "8Q9DQN5_8IPM"
      }
    },
    {
      "cell_type": "markdown",
      "source": [
        "# **Visualization 2: Price vs. Rating**"
      ],
      "metadata": {
        "id": "ihv50LIrAVMe"
      }
    },
    {
      "cell_type": "code",
      "source": [
        "# Scatter plot of Price vs. Rating\n",
        "plt.figure(figsize=(8, 6))\n",
        "sns.scatterplot(x='price', y='rating', data=df)\n",
        "plt.title(\"Price vs. Rating\")\n",
        "plt.xlabel(\"Price\")\n",
        "plt.ylabel(\"Rating\")\n",
        "plt.show()"
      ],
      "metadata": {
        "colab": {
          "base_uri": "https://localhost:8080/",
          "height": 564
        },
        "id": "eh-9FYJmAt27",
        "outputId": "815fdc0c-a1c4-4b14-b84d-6496fb9938b0"
      },
      "execution_count": 13,
      "outputs": [
        {
          "output_type": "display_data",
          "data": {
            "text/plain": [
              "<Figure size 800x600 with 1 Axes>"
            ],
            "image/png": "[encoded data removed]"
          },
          "metadata": {}
        }
      ]
    },
    {
      "cell_type": "markdown",
      "source": [
        "This scatter plot displays the relationship between the price and rating of wines. The x-axis represents the price, while the y-axis represents the rating. By analyzing the plot, we can identify any patterns or correlations between the wine's price and its rating.\n",
        "\n",
        "These visualizations provide insights into the relationships and trends present in the Wine dataset. They can be easily understood by a non-technical audience and help stakeholders gain a quick understanding of the data."
      ],
      "metadata": {
        "id": "CfZlSgqEA2No"
      }
    },
    {
      "cell_type": "markdown",
      "source": [
        "# **_ _ _ _ _ _ _ _ _ _ _ __ _**"
      ],
      "metadata": {
        "id": "0RsPWO9bw-Jw"
      }
    },
    {
      "cell_type": "markdown",
      "source": [
        "# **Predict the acidity of wine**"
      ],
      "metadata": {
        "id": "Vs8yxqPXwuOT"
      }
    },
    {
      "cell_type": "markdown",
      "source": [
        "#### **Why is this important?**"
      ],
      "metadata": {
        "id": "0zz-Px7mx4rK"
      }
    },
    {
      "cell_type": "code",
      "source": [
        "import seaborn as sns\n",
        "import matplotlib.pyplot as plt\n",
        "\n",
        "sns.lineplot(x='acidity', y='rating', data=df)\n",
        "plt.title('Acidity vs. Quality Ratings')\n",
        "plt.show()"
      ],
      "metadata": {
        "colab": {
          "base_uri": "https://localhost:8080/",
          "height": 472
        },
        "id": "B2EA5IAnxvR3",
        "outputId": "06ac398a-d8be-4344-d623-5a65de200c7d"
      },
      "execution_count": 14,
      "outputs": [
        {
          "output_type": "display_data",
          "data": {
            "text/plain": [
              "<Figure size 640x480 with 1 Axes>"
            ],
            "image/png": "[encoded data removed]"
          },
          "metadata": {}
        }
      ]
    },
    {
      "cell_type": "markdown",
      "source": [
        "- **Because:** From the line plot, we can see that there is a moderate negative correlation between acidity and quality ratings. As the acidity level increases, the quality ratings tend to decrease"
      ],
      "metadata": {
        "id": "Jza4tBA9xlbY"
      }
    },
    {
      "cell_type": "markdown",
      "source": [
        "**<font color='#f74699'>Next, let's encode the categorical variables, 'country' and 'region', using one-hot encoding:</font>**"
      ],
      "metadata": {
        "id": "NPA8tJxXYdRO"
      }
    },
    {
      "cell_type": "code",
      "source": [
        "# One-hot encoding for 'country' and 'region' columns\n",
        "df_encoded = pd.get_dummies(df, columns=['country', 'region',\"wine\",])"
      ],
      "metadata": {
        "id": "V1hPTpxLKkre"
      },
      "execution_count": 15,
      "outputs": []
    },
    {
      "cell_type": "markdown",
      "source": [
        "- **and**"
      ],
      "metadata": {
        "id": "oxS_umtNhoZr"
      }
    },
    {
      "cell_type": "code",
      "source": [
        "# Convert categorical columns to one-hot encoded columns\n",
        "#df_encoded = pd.get_dummies(df, columns=['wine',])"
      ],
      "metadata": {
        "id": "DWMzHDyDhjh9"
      },
      "execution_count": 16,
      "outputs": []
    },
    {
      "cell_type": "markdown",
      "source": [
        "**<font color='#f74699'>Now we can start with the modeling phase. Since we want to predict the best acidity for the wine, this is a regression problem. We will try out several regression models and evaluate them using appropriate metrics. We will also use GridSearchCV to tune the hyperparameters of each model:</font>**"
      ],
      "metadata": {
        "id": "_hicUggOZA1l"
      }
    },
    {
      "cell_type": "markdown",
      "source": [
        "- **Imports:**"
      ],
      "metadata": {
        "id": "yGMplP40by6I"
      }
    },
    {
      "cell_type": "code",
      "source": [
        "from sklearn.model_selection import train_test_split, GridSearchCV\n",
        "from sklearn.linear_model import LinearRegression, Lasso, Ridge\n",
        "from sklearn.tree import DecisionTreeRegressor\n",
        "from sklearn.ensemble import RandomForestRegressor\n",
        "from sklearn.metrics import mean_squared_error, r2_score\n",
        "from sklearn.preprocessing import StandardScaler\n",
        "from sklearn.decomposition import PCA\n",
        "import numpy as np"
      ],
      "metadata": {
        "id": "t2LyjFJSZXlG"
      },
      "execution_count": 17,
      "outputs": []
    },
    {
      "cell_type": "markdown",
      "source": [
        "**Split Data:**"
      ],
      "metadata": {
        "id": "btrcgMHIb5rF"
      }
    },
    {
      "cell_type": "code",
      "source": [
        "# Define X and y\n",
        "X = df_encoded.drop(['acidity'], axis=1)\n",
        "y = df_encoded['acidity']\n",
        "\n",
        "# Split the data into training and test sets\n",
        "X_train, X_test, y_train, y_test = train_test_split(X, y, test_size=0.2, random_state=42)"
      ],
      "metadata": {
        "id": "R97-fn9ob-IH"
      },
      "execution_count": 18,
      "outputs": []
    },
    {
      "cell_type": "markdown",
      "source": [
        "### **string \"N.V \" in the year column:**"
      ],
      "metadata": {
        "id": "hyjGcVa3mXTj"
      }
    },
    {
      "cell_type": "markdown",
      "source": [
        "- **<font color='#f74699'>The next Inconsistency was found when trying to run my model</font>**"
      ],
      "metadata": {
        "id": "KNkbjH_tmJaw"
      }
    },
    {
      "cell_type": "code",
      "source": [
        "# Create a list to store the columns that contain \"N.V.\"\n",
        "nv_columns = []\n",
        "\n",
        "# Check each column in X_train for \"N.V.\" and append the column name to nv_columns if found\n",
        "for col in X_train.columns:\n",
        "    if X_train[col].apply(lambda x: \"N.V.\" in str(x)).any():\n",
        "        nv_columns.append(col)\n",
        "\n",
        "# Print the columns that contain \"N.V.\"\n",
        "print(\"Columns with N.V. values:\", nv_columns)\n"
      ],
      "metadata": {
        "colab": {
          "base_uri": "https://localhost:8080/"
        },
        "id": "-TfZjPK1kzDr",
        "outputId": "919f5385-6b76-4d2b-aa23-d09fc5558a59"
      },
      "execution_count": 19,
      "outputs": [
        {
          "output_type": "stream",
          "name": "stdout",
          "text": [
            "Columns with N.V. values: ['year']\n"
          ]
        }
      ]
    },
    {
      "cell_type": "markdown",
      "source": [
        "- **Fix it by replacing:**"
      ],
      "metadata": {
        "id": "SJEyo7SKmrVt"
      }
    },
    {
      "cell_type": "code",
      "source": [
        "# replace \"N.V.\" string with mode value\n",
        "mode_value = X_train['year'].mode()[0]\n",
        "X_train['year'] = X_train['year'].replace('N.V.', mode_value).astype(int)\n",
        "X_test['year'] = X_test['year'].replace('N.V.', mode_value).astype(int)"
      ],
      "metadata": {
        "id": "8TEyhALDmwVg"
      },
      "execution_count": 20,
      "outputs": []
    },
    {
      "cell_type": "markdown",
      "source": [
        "**Create the Model to Predict the best acidity:**"
      ],
      "metadata": {
        "id": "0U1y0rS6cD3h"
      }
    },
    {
      "cell_type": "code",
      "source": [
        "# Standardize the data\n",
        "scaler = StandardScaler()\n",
        "X_train_std = scaler.fit_transform(X_train)\n",
        "X_test_std = scaler.transform(X_test)\n",
        "\n",
        "# Perform PCA on the standardized data\n",
        "pca = PCA(n_components=10)\n",
        "X_train_pca = pca.fit_transform(X_train_std)\n",
        "X_test_pca = pca.transform(X_test_std)\n",
        "\n",
        "# Define a list of models to train and evaluate\n",
        "models = [\n",
        "    ('Linear Regression', LinearRegression()),\n",
        "    ('Lasso', Lasso()),\n",
        "    ('Ridge', Ridge()),\n",
        "    ('Decision Tree', DecisionTreeRegressor()),\n",
        "    ('Random Forest', RandomForestRegressor())\n",
        "]\n",
        "\n",
        "# Define a dictionary of hyperparameters to search over for each model\n",
        "param_grids = {\n",
        "    'Linear Regression': {},\n",
        "    'Lasso': {'alpha': [0.01, 0.1, 1.0]},\n",
        "    'Ridge': {'alpha': [0.01, 0.1, 1.0]},\n",
        "    'Decision Tree': {'max_depth': [5, 10, 15]},\n",
        "    'Random Forest': {'n_estimators': [100, 200], 'max_depth': [5, 10, 15]}\n",
        "}\n",
        "\n",
        "# Train and evaluate each model with multiple metrics\n",
        "best_models = {}\n",
        "for name, model in models:\n",
        "    # Train the model on the training set\n",
        "    gs = GridSearchCV(model, param_grids[name], cv=5, scoring='neg_mean_squared_error')\n",
        "    gs.fit(X_train_pca, y_train)\n",
        "    \n",
        "    # Evaluate the model on the training set\n",
        "    y_train_pred = gs.predict(X_train_pca)\n",
        "    train_rmse = np.sqrt(mean_squared_error(y_train, y_train_pred))\n",
        "    train_r2 = r2_score(y_train, y_train_pred)\n",
        "    \n",
        "    # Evaluate the model on the test set\n",
        "    y_test_pred = gs.predict(X_test_pca)\n",
        "    test_rmse = np.sqrt(mean_squared_error(y_test, y_test_pred))\n",
        "    test_r2 = r2_score(y_test, y_test_pred)\n",
        "    \n",
        "    # Store the best model and its metrics\n",
        "    best_models[name] = {\n",
        "        'model': gs.best_estimator_,\n",
        "        'train_rmse': train_rmse,\n",
        "        'train_r2': train_r2,\n",
        "        'test_rmse': test_rmse,\n",
        "        'test_r2': test_r2\n",
        "    }\n",
        "    \n",
        "    # Print the model's metrics\n",
        "    print(name)\n",
        "    print('Best hyperparameters:', gs.best_params_)\n",
        "    print('Train RMSE:', train_rmse)\n",
        "    print('Train R^2:', train_r2)\n",
        "    print('Test RMSE:', test_rmse)\n",
        "    print('Test R^2:', test_r2)\n",
        "    print('---')\n",
        "\n",
        "#"
      ],
      "metadata": {
        "colab": {
          "base_uri": "https://localhost:8080/"
        },
        "id": "kDkjAJmrcKzh",
        "outputId": "373d85cb-49c3-4c6b-fc48-b3b52a5c5fde"
      },
      "execution_count": 21,
      "outputs": [
        {
          "output_type": "stream",
          "name": "stdout",
          "text": [
            "Linear Regression\n",
            "Best hyperparameters: {}\n",
            "Train RMSE: 0.2611096614265244\n",
            "Train R^2: 0.28693005633979984\n",
            "Test RMSE: 0.2686252279863508\n",
            "Test R^2: 0.32460945690913967\n",
            "---\n",
            "Lasso\n",
            "Best hyperparameters: {'alpha': 0.01}\n",
            "Train RMSE: 0.26195722053604764\n",
            "Train R^2: 0.2822933086175069\n",
            "Test RMSE: 0.272610770549528\n",
            "Test R^2: 0.3044194946483296\n",
            "---\n",
            "Ridge\n",
            "Best hyperparameters: {'alpha': 1.0}\n",
            "Train RMSE: 0.2611096655353482\n",
            "Train R^2: 0.2869300338980505\n",
            "Test RMSE: 0.2686315187373762\n",
            "Test R^2: 0.32457782351765085\n",
            "---\n",
            "Decision Tree\n",
            "Best hyperparameters: {'max_depth': 5}\n",
            "Train RMSE: 0.1306325808702023\n",
            "Train R^2: 0.8215201212980165\n",
            "Test RMSE: 0.26312712415967243\n",
            "Test R^2: 0.35197371876049455\n",
            "---\n",
            "Random Forest\n",
            "Best hyperparameters: {'max_depth': 15, 'n_estimators': 200}\n",
            "Train RMSE: 0.06239588823740547\n",
            "Train R^2: 0.9592808980859531\n",
            "Test RMSE: 0.22785845836715826\n",
            "Test R^2: 0.5140498835181577\n",
            "---\n"
          ]
        }
      ]
    },
    {
      "cell_type": "markdown",
      "source": [
        "- **<font color='#fa699'>Disclaimer:</font>** I asked ChatGPT for help when creating the hyperparameters, but it was debuged by me.\n",
        "\n",
        "- **Explanation:** https://docs.google.com/document/d/1IlN2uiBfTWj03CAUcdUezWhJ-bpNB-LFxeRlVLcEBwI/edit?usp=sharing"
      ],
      "metadata": {
        "id": "YXgmnDbbZQb7"
      }
    },
    {
      "cell_type": "markdown",
      "source": [
        "**Based on the metrics, the production model should be the Random Forest Regressor as it has the lowest test RMSE (0.239) and highest test R-squared (0.463) compared to the other models. The RMSE is a measure of the model's prediction error, and in this case, the lower the RMSE, the better the model's prediction. The R-squared value measures the proportion of variance in the target variable that can be explained by the model, and a higher value indicates a better fit. Therefore, based on these metrics, the Random Forest Regressor seems to be the best model for predicting the acidity of wine.**"
      ],
      "metadata": {
        "id": "_R7F_zEvnmZ8"
      }
    }
  ]
}