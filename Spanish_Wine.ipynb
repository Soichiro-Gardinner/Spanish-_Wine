{
  "nbformat": 4,
  "nbformat_minor": 0,
  "metadata": {
    "colab": {
      "provenance": [],
      "authorship_tag": "ABX9TyNxOdnuuiEJ+LcWig/PwRKn",
      "include_colab_link": true
    },
    "kernelspec": {
      "name": "python3",
      "display_name": "Python 3"
    },
    "language_info": {
      "name": "python"
    }
  },
  "cells": [
    {
      "cell_type": "markdown",
      "metadata": {
        "id": "view-in-github",
        "colab_type": "text"
      },
      "source": [
        "<a href=\"https://colab.research.google.com/github/Soichiro-Gardinner/Spanish-_Wine/blob/main/Spanish_Wine.ipynb\" target=\"_parent\"><img src=\"https://colab.research.google.com/assets/colab-badge.svg\" alt=\"Open In Colab\"/></a>"
      ]
    },
    {
      "cell_type": "markdown",
      "source": [
        "# **Spanish Wine**\n",
        "- **From:** Kaggle\n",
        "- **By:** Oscar C.\n",
        "- **Date:** 4/14/2023"
      ],
      "metadata": {
        "id": "f7T4NjirEqCA"
      }
    },
    {
      "cell_type": "code",
      "source": [
        "# Import libraries:\n",
        "import pandas as pd"
      ],
      "metadata": {
        "id": "QWh668AC_-Jt"
      },
      "execution_count": 1,
      "outputs": []
    },
    {
      "cell_type": "code",
      "execution_count": 2,
      "metadata": {
        "colab": {
          "base_uri": "https://localhost:8080/",
          "height": 206
        },
        "id": "QGfW778L9zbz",
        "outputId": "6cd5142a-c3e1-4970-a68c-85e1dac684d9"
      },
      "outputs": [
        {
          "output_type": "execute_result",
          "data": {
            "text/plain": [
              "          winery           wine  year  rating  num_reviews country  \\\n",
              "0  Teso La Monja          Tinto  2013     4.9           58  Espana   \n",
              "1         Artadi  Vina El Pison  2018     4.9           31  Espana   \n",
              "2   Vega Sicilia          Unico  2009     4.8         1793  Espana   \n",
              "3   Vega Sicilia          Unico  1999     4.8         1705  Espana   \n",
              "4   Vega Sicilia          Unico  1996     4.8         1309  Espana   \n",
              "\n",
              "             region   price                  type  body  acidity  \n",
              "0              Toro  995.00              Toro Red   5.0      3.0  \n",
              "1    Vino de Espana  313.50           Tempranillo   4.0      2.0  \n",
              "2  Ribera del Duero  324.95  Ribera Del Duero Red   5.0      3.0  \n",
              "3  Ribera del Duero  692.96  Ribera Del Duero Red   5.0      3.0  \n",
              "4  Ribera del Duero  778.06  Ribera Del Duero Red   5.0      3.0  "
            ],
            "text/html": [
              "\n",
              "  <div id=\"df-bd8d740f-b8ea-46b1-829f-1af0b16c2bdb\">\n",
              "    <div class=\"colab-df-container\">\n",
              "      <div>\n",
              "<style scoped>\n",
              "    .dataframe tbody tr th:only-of-type {\n",
              "        vertical-align: middle;\n",
              "    }\n",
              "\n",
              "    .dataframe tbody tr th {\n",
              "        vertical-align: top;\n",
              "    }\n",
              "\n",
              "    .dataframe thead th {\n",
              "        text-align: right;\n",
              "    }\n",
              "</style>\n",
              "<table border=\"1\" class=\"dataframe\">\n",
              "  <thead>\n",
              "    <tr style=\"text-align: right;\">\n",
              "      <th></th>\n",
              "      <th>winery</th>\n",
              "      <th>wine</th>\n",
              "      <th>year</th>\n",
              "      <th>rating</th>\n",
              "      <th>num_reviews</th>\n",
              "      <th>country</th>\n",
              "      <th>region</th>\n",
              "      <th>price</th>\n",
              "      <th>type</th>\n",
              "      <th>body</th>\n",
              "      <th>acidity</th>\n",
              "    </tr>\n",
              "  </thead>\n",
              "  <tbody>\n",
              "    <tr>\n",
              "      <th>0</th>\n",
              "      <td>Teso La Monja</td>\n",
              "      <td>Tinto</td>\n",
              "      <td>2013</td>\n",
              "      <td>4.9</td>\n",
              "      <td>58</td>\n",
              "      <td>Espana</td>\n",
              "      <td>Toro</td>\n",
              "      <td>995.00</td>\n",
              "      <td>Toro Red</td>\n",
              "      <td>5.0</td>\n",
              "      <td>3.0</td>\n",
              "    </tr>\n",
              "    <tr>\n",
              "      <th>1</th>\n",
              "      <td>Artadi</td>\n",
              "      <td>Vina El Pison</td>\n",
              "      <td>2018</td>\n",
              "      <td>4.9</td>\n",
              "      <td>31</td>\n",
              "      <td>Espana</td>\n",
              "      <td>Vino de Espana</td>\n",
              "      <td>313.50</td>\n",
              "      <td>Tempranillo</td>\n",
              "      <td>4.0</td>\n",
              "      <td>2.0</td>\n",
              "    </tr>\n",
              "    <tr>\n",
              "      <th>2</th>\n",
              "      <td>Vega Sicilia</td>\n",
              "      <td>Unico</td>\n",
              "      <td>2009</td>\n",
              "      <td>4.8</td>\n",
              "      <td>1793</td>\n",
              "      <td>Espana</td>\n",
              "      <td>Ribera del Duero</td>\n",
              "      <td>324.95</td>\n",
              "      <td>Ribera Del Duero Red</td>\n",
              "      <td>5.0</td>\n",
              "      <td>3.0</td>\n",
              "    </tr>\n",
              "    <tr>\n",
              "      <th>3</th>\n",
              "      <td>Vega Sicilia</td>\n",
              "      <td>Unico</td>\n",
              "      <td>1999</td>\n",
              "      <td>4.8</td>\n",
              "      <td>1705</td>\n",
              "      <td>Espana</td>\n",
              "      <td>Ribera del Duero</td>\n",
              "      <td>692.96</td>\n",
              "      <td>Ribera Del Duero Red</td>\n",
              "      <td>5.0</td>\n",
              "      <td>3.0</td>\n",
              "    </tr>\n",
              "    <tr>\n",
              "      <th>4</th>\n",
              "      <td>Vega Sicilia</td>\n",
              "      <td>Unico</td>\n",
              "      <td>1996</td>\n",
              "      <td>4.8</td>\n",
              "      <td>1309</td>\n",
              "      <td>Espana</td>\n",
              "      <td>Ribera del Duero</td>\n",
              "      <td>778.06</td>\n",
              "      <td>Ribera Del Duero Red</td>\n",
              "      <td>5.0</td>\n",
              "      <td>3.0</td>\n",
              "    </tr>\n",
              "  </tbody>\n",
              "</table>\n",
              "</div>\n",
              "      <button class=\"colab-df-convert\" onclick=\"convertToInteractive('df-bd8d740f-b8ea-46b1-829f-1af0b16c2bdb')\"\n",
              "              title=\"Convert this dataframe to an interactive table.\"\n",
              "              style=\"display:none;\">\n",
              "        \n",
              "  <svg xmlns=\"http://www.w3.org/2000/svg\" height=\"24px\"viewBox=\"0 0 24 24\"\n",
              "       width=\"24px\">\n",
              "    <path d=\"M0 0h24v24H0V0z\" fill=\"none\"/>\n",
              "    <path d=\"M18.56 5.44l.94 2.06.94-2.06 2.06-.94-2.06-.94-.94-2.06-.94 2.06-2.06.94zm-11 1L8.5 8.5l.94-2.06 2.06-.94-2.06-.94L8.5 2.5l-.94 2.06-2.06.94zm10 10l.94 2.06.94-2.06 2.06-.94-2.06-.94-.94-2.06-.94 2.06-2.06.94z\"/><path d=\"M17.41 7.96l-1.37-1.37c-.4-.4-.92-.59-1.43-.59-.52 0-1.04.2-1.43.59L10.3 9.45l-7.72 7.72c-.78.78-.78 2.05 0 2.83L4 21.41c.39.39.9.59 1.41.59.51 0 1.02-.2 1.41-.59l7.78-7.78 2.81-2.81c.8-.78.8-2.07 0-2.86zM5.41 20L4 18.59l7.72-7.72 1.47 1.35L5.41 20z\"/>\n",
              "  </svg>\n",
              "      </button>\n",
              "      \n",
              "  <style>\n",
              "    .colab-df-container {\n",
              "      display:flex;\n",
              "      flex-wrap:wrap;\n",
              "      gap: 12px;\n",
              "    }\n",
              "\n",
              "    .colab-df-convert {\n",
              "      background-color: #E8F0FE;\n",
              "      border: none;\n",
              "      border-radius: 50%;\n",
              "      cursor: pointer;\n",
              "      display: none;\n",
              "      fill: #1967D2;\n",
              "      height: 32px;\n",
              "      padding: 0 0 0 0;\n",
              "      width: 32px;\n",
              "    }\n",
              "\n",
              "    .colab-df-convert:hover {\n",
              "      background-color: #E2EBFA;\n",
              "      box-shadow: 0px 1px 2px rgba(60, 64, 67, 0.3), 0px 1px 3px 1px rgba(60, 64, 67, 0.15);\n",
              "      fill: #174EA6;\n",
              "    }\n",
              "\n",
              "    [theme=dark] .colab-df-convert {\n",
              "      background-color: #3B4455;\n",
              "      fill: #D2E3FC;\n",
              "    }\n",
              "\n",
              "    [theme=dark] .colab-df-convert:hover {\n",
              "      background-color: #434B5C;\n",
              "      box-shadow: 0px 1px 3px 1px rgba(0, 0, 0, 0.15);\n",
              "      filter: drop-shadow(0px 1px 2px rgba(0, 0, 0, 0.3));\n",
              "      fill: #FFFFFF;\n",
              "    }\n",
              "  </style>\n",
              "\n",
              "      <script>\n",
              "        const buttonEl =\n",
              "          document.querySelector('#df-bd8d740f-b8ea-46b1-829f-1af0b16c2bdb button.colab-df-convert');\n",
              "        buttonEl.style.display =\n",
              "          google.colab.kernel.accessAllowed ? 'block' : 'none';\n",
              "\n",
              "        async function convertToInteractive(key) {\n",
              "          const element = document.querySelector('#df-bd8d740f-b8ea-46b1-829f-1af0b16c2bdb');\n",
              "          const dataTable =\n",
              "            await google.colab.kernel.invokeFunction('convertToInteractive',\n",
              "                                                     [key], {});\n",
              "          if (!dataTable) return;\n",
              "\n",
              "          const docLinkHtml = 'Like what you see? Visit the ' +\n",
              "            '<a target=\"_blank\" href=https://colab.research.google.com/notebooks/data_table.ipynb>data table notebook</a>'\n",
              "            + ' to learn more about interactive tables.';\n",
              "          element.innerHTML = '';\n",
              "          dataTable['output_type'] = 'display_data';\n",
              "          await google.colab.output.renderOutput(dataTable, element);\n",
              "          const docLink = document.createElement('div');\n",
              "          docLink.innerHTML = docLinkHtml;\n",
              "          element.appendChild(docLink);\n",
              "        }\n",
              "      </script>\n",
              "    </div>\n",
              "  </div>\n",
              "  "
            ]
          },
          "metadata": {},
          "execution_count": 2
        }
      ],
      "source": [
        "# Read_Wine Data\n",
        "S_wine = \"/content/wines_SPA.csv\"\n",
        "df = pd.read_csv(S_wine)\n",
        "df.head()"
      ]
    },
    {
      "cell_type": "code",
      "source": [
        "# Looking for nulls and Data types\n",
        "df.info()"
      ],
      "metadata": {
        "colab": {
          "base_uri": "https://localhost:8080/"
        },
        "id": "G8WcBgbJAPRs",
        "outputId": "da26c35d-1bf5-49b7-c5c6-9e0fe28286dc"
      },
      "execution_count": 3,
      "outputs": [
        {
          "output_type": "stream",
          "name": "stdout",
          "text": [
            "<class 'pandas.core.frame.DataFrame'>\n",
            "RangeIndex: 7500 entries, 0 to 7499\n",
            "Data columns (total 11 columns):\n",
            " #   Column       Non-Null Count  Dtype  \n",
            "---  ------       --------------  -----  \n",
            " 0   winery       7500 non-null   object \n",
            " 1   wine         7500 non-null   object \n",
            " 2   year         7498 non-null   object \n",
            " 3   rating       7500 non-null   float64\n",
            " 4   num_reviews  7500 non-null   int64  \n",
            " 5   country      7500 non-null   object \n",
            " 6   region       7500 non-null   object \n",
            " 7   price        7500 non-null   float64\n",
            " 8   type         6955 non-null   object \n",
            " 9   body         6331 non-null   float64\n",
            " 10  acidity      6331 non-null   float64\n",
            "dtypes: float64(4), int64(1), object(6)\n",
            "memory usage: 644.7+ KB\n"
          ]
        }
      ]
    },
    {
      "cell_type": "markdown",
      "source": [
        "**Delete unnecessary columns:**"
      ],
      "metadata": {
        "id": "-adVZ_pAYVLg"
      }
    },
    {
      "cell_type": "code",
      "source": [
        "# Delete columns\n",
        "df = df.drop([\"winery\", \"type\"], axis=1)"
      ],
      "metadata": {
        "id": "7Ps9AcMTYi85"
      },
      "execution_count": 4,
      "outputs": []
    },
    {
      "cell_type": "markdown",
      "source": [
        "**Delete duplicate rows:**\n"
      ],
      "metadata": {
        "id": "tHRyti-gYn_L"
      }
    },
    {
      "cell_type": "code",
      "source": [
        "df = df.drop_duplicates()"
      ],
      "metadata": {
        "id": "8Hj_jxX3YvyW"
      },
      "execution_count": 5,
      "outputs": []
    },
    {
      "cell_type": "markdown",
      "source": [
        "**Identify and address missing values:**"
      ],
      "metadata": {
        "id": "mCh5H0agZHcg"
      }
    },
    {
      "cell_type": "code",
      "source": [
        "# Identify:\n",
        "df.isna().sum()"
      ],
      "metadata": {
        "colab": {
          "base_uri": "https://localhost:8080/"
        },
        "id": "gq2q5LD2ZG6O",
        "outputId": "ed491228-eb0a-4076-813d-afc9aec853d9"
      },
      "execution_count": 6,
      "outputs": [
        {
          "output_type": "execute_result",
          "data": {
            "text/plain": [
              "wine             0\n",
              "year             2\n",
              "rating           0\n",
              "num_reviews      0\n",
              "country          0\n",
              "region           0\n",
              "price            0\n",
              "body           271\n",
              "acidity        271\n",
              "dtype: int64"
            ]
          },
          "metadata": {},
          "execution_count": 6
        }
      ]
    },
    {
      "cell_type": "code",
      "source": [
        "# Fill in missing values with mode for 'year' column\n",
        "mode_year = df['year'].mode()[0] # Extract first mode value\n",
        "df['year'] = df['year'].fillna(mode_year)\n",
        "\n",
        "\n",
        "# Replace missing values with median for 'body' and 'acidity' columns\n",
        "df['body'] = df['body'].fillna(df['body'].median())\n",
        "df['acidity'] = df['acidity'].fillna(df['acidity'].median())"
      ],
      "metadata": {
        "id": "YZq3eNigZ9Z7"
      },
      "execution_count": 8,
      "outputs": []
    },
    {
      "cell_type": "code",
      "source": [
        "# Identify again:\n",
        "df.isna().sum()"
      ],
      "metadata": {
        "colab": {
          "base_uri": "https://localhost:8080/"
        },
        "id": "eATiFopfc464",
        "outputId": "e923e910-be0e-4cf7-9d23-856e89734f8f"
      },
      "execution_count": 9,
      "outputs": [
        {
          "output_type": "execute_result",
          "data": {
            "text/plain": [
              "wine           0\n",
              "year           0\n",
              "rating         0\n",
              "num_reviews    0\n",
              "country        0\n",
              "region         0\n",
              "price          0\n",
              "body           0\n",
              "acidity        0\n",
              "dtype: int64"
            ]
          },
          "metadata": {},
          "execution_count": 9
        }
      ]
    },
    {
      "cell_type": "markdown",
      "source": [
        "**Inconcistencies:**"
      ],
      "metadata": {
        "id": "TveYNqUYfgE2"
      }
    },
    {
      "cell_type": "code",
      "source": [
        "for i in df.columns:\n",
        "  print(f\"\\n{df[i].value_counts}\")"
      ],
      "metadata": {
        "colab": {
          "base_uri": "https://localhost:8080/"
        },
        "id": "jcp07Wo0fjzj",
        "outputId": "6c2542f7-d8e0-4f27-9408-8c94bc4f8534"
      },
      "execution_count": 11,
      "outputs": [
        {
          "output_type": "stream",
          "name": "stdout",
          "text": [
            "\n",
            "<bound method IndexOpsMixin.value_counts of 0                 Tinto\n",
            "1         Vina El Pison\n",
            "2                 Unico\n",
            "3                 Unico\n",
            "4                 Unico\n",
            "             ...       \n",
            "2046    Finca Terrerazo\n",
            "2047       Gran Reserva\n",
            "2048           Preludio\n",
            "2049         El Puntido\n",
            "6100       Rioja Blanco\n",
            "Name: wine, Length: 2048, dtype: object>\n",
            "\n",
            "<bound method IndexOpsMixin.value_counts of 0       2013\n",
            "1       2018\n",
            "2       2009\n",
            "3       1999\n",
            "4       1996\n",
            "        ... \n",
            "2046    2017\n",
            "2047    2011\n",
            "2048    2016\n",
            "2049    2005\n",
            "6100    2017\n",
            "Name: year, Length: 2048, dtype: object>\n",
            "\n",
            "<bound method IndexOpsMixin.value_counts of 0       4.9\n",
            "1       4.9\n",
            "2       4.8\n",
            "3       4.8\n",
            "4       4.8\n",
            "       ... \n",
            "2046    4.2\n",
            "2047    4.2\n",
            "2048    4.2\n",
            "2049    4.2\n",
            "6100    4.2\n",
            "Name: rating, Length: 2048, dtype: float64>\n",
            "\n",
            "<bound method IndexOpsMixin.value_counts of 0         58\n",
            "1         31\n",
            "2       1793\n",
            "3       1705\n",
            "4       1309\n",
            "        ... \n",
            "2046     390\n",
            "2047     389\n",
            "2048     388\n",
            "2049     384\n",
            "6100     421\n",
            "Name: num_reviews, Length: 2048, dtype: int64>\n",
            "\n",
            "<bound method IndexOpsMixin.value_counts of 0       Espana\n",
            "1       Espana\n",
            "2       Espana\n",
            "3       Espana\n",
            "4       Espana\n",
            "         ...  \n",
            "2046    Espana\n",
            "2047    Espana\n",
            "2048    Espana\n",
            "2049    Espana\n",
            "6100    Espana\n",
            "Name: country, Length: 2048, dtype: object>\n",
            "\n",
            "<bound method IndexOpsMixin.value_counts of 0                   Toro\n",
            "1         Vino de Espana\n",
            "2       Ribera del Duero\n",
            "3       Ribera del Duero\n",
            "4       Ribera del Duero\n",
            "              ...       \n",
            "2046        El Terrerazo\n",
            "2047    Ribera del Duero\n",
            "2048    Ribera del Duero\n",
            "2049               Rioja\n",
            "6100               Rioja\n",
            "Name: region, Length: 2048, dtype: object>\n",
            "\n",
            "<bound method IndexOpsMixin.value_counts of 0       995.00\n",
            "1       313.50\n",
            "2       324.95\n",
            "3       692.96\n",
            "4       778.06\n",
            "         ...  \n",
            "2046     24.45\n",
            "2047     64.50\n",
            "2048     31.63\n",
            "2049     73.00\n",
            "6100     29.15\n",
            "Name: price, Length: 2048, dtype: float64>\n",
            "\n",
            "<bound method IndexOpsMixin.value_counts of 0       5.0\n",
            "1       4.0\n",
            "2       5.0\n",
            "3       5.0\n",
            "4       5.0\n",
            "       ... \n",
            "2046    4.0\n",
            "2047    5.0\n",
            "2048    5.0\n",
            "2049    4.0\n",
            "6100    4.0\n",
            "Name: body, Length: 2048, dtype: float64>\n",
            "\n",
            "<bound method IndexOpsMixin.value_counts of 0       3.0\n",
            "1       2.0\n",
            "2       3.0\n",
            "3       3.0\n",
            "4       3.0\n",
            "       ... \n",
            "2046    3.0\n",
            "2047    3.0\n",
            "2048    3.0\n",
            "2049    3.0\n",
            "6100    3.0\n",
            "Name: acidity, Length: 2048, dtype: float64>\n"
          ]
        }
      ]
    },
    {
      "cell_type": "markdown",
      "source": [
        "### **<font color='#ffd966'>[NOTE]</font>**\n",
        "- in this ocation we were unable to find **Inconsistencies**, but we will probably find some when we start to prepare our data for machine learning. "
      ],
      "metadata": {
        "id": "bAcVJz69guIw"
      }
    }
  ]
}