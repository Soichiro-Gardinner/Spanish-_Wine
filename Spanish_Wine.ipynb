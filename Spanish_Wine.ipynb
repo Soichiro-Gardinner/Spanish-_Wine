{
  "nbformat": 4,
  "nbformat_minor": 0,
  "metadata": {
    "colab": {
      "provenance": [],
      "authorship_tag": "ABX9TyPzATqz0W/TdXleTi6Pr+ud",
      "include_colab_link": true
    },
    "kernelspec": {
      "name": "python3",
      "display_name": "Python 3"
    },
    "language_info": {
      "name": "python"
    }
  },
  "cells": [
    {
      "cell_type": "markdown",
      "metadata": {
        "id": "view-in-github",
        "colab_type": "text"
      },
      "source": [
        "<a href=\"https://colab.research.google.com/github/Soichiro-Gardinner/Spanish-_Wine/blob/main/Spanish_Wine.ipynb\" target=\"_parent\"><img src=\"https://colab.research.google.com/assets/colab-badge.svg\" alt=\"Open In Colab\"/></a>"
      ]
    },
    {
      "cell_type": "markdown",
      "source": [
        "# **Spanish Wine**\n",
        "- **From:** Kaggle\n",
        "- **By:** Oscar C.\n",
        "- **Date:** 4/14/2023"
      ],
      "metadata": {
        "id": "f7T4NjirEqCA"
      }
    },
    {
      "cell_type": "code",
      "source": [
        "# Import libraries:\n",
        "import pandas as pd"
      ],
      "metadata": {
        "id": "QWh668AC_-Jt"
      },
      "execution_count": 1,
      "outputs": []
    },
    {
      "cell_type": "code",
      "execution_count": 2,
      "metadata": {
        "colab": {
          "base_uri": "https://localhost:8080/",
          "height": 206
        },
        "id": "QGfW778L9zbz",
        "outputId": "206ba0e1-9b3b-4915-ebe5-1049bfd9af18"
      },
      "outputs": [
        {
          "output_type": "execute_result",
          "data": {
            "text/plain": [
              "          winery           wine  year  rating  num_reviews country  \\\n",
              "0  Teso La Monja          Tinto  2013     4.9           58  Espana   \n",
              "1         Artadi  Vina El Pison  2018     4.9           31  Espana   \n",
              "2   Vega Sicilia          Unico  2009     4.8         1793  Espana   \n",
              "3   Vega Sicilia          Unico  1999     4.8         1705  Espana   \n",
              "4   Vega Sicilia          Unico  1996     4.8         1309  Espana   \n",
              "\n",
              "             region   price                  type  body  acidity  \n",
              "0              Toro  995.00              Toro Red   5.0      3.0  \n",
              "1    Vino de Espana  313.50           Tempranillo   4.0      2.0  \n",
              "2  Ribera del Duero  324.95  Ribera Del Duero Red   5.0      3.0  \n",
              "3  Ribera del Duero  692.96  Ribera Del Duero Red   5.0      3.0  \n",
              "4  Ribera del Duero  778.06  Ribera Del Duero Red   5.0      3.0  "
            ],
            "text/html": [
              "\n",
              "  <div id=\"df-3218c948-e7d2-457b-88e4-0d23058dec33\">\n",
              "    <div class=\"colab-df-container\">\n",
              "      <div>\n",
              "<style scoped>\n",
              "    .dataframe tbody tr th:only-of-type {\n",
              "        vertical-align: middle;\n",
              "    }\n",
              "\n",
              "    .dataframe tbody tr th {\n",
              "        vertical-align: top;\n",
              "    }\n",
              "\n",
              "    .dataframe thead th {\n",
              "        text-align: right;\n",
              "    }\n",
              "</style>\n",
              "<table border=\"1\" class=\"dataframe\">\n",
              "  <thead>\n",
              "    <tr style=\"text-align: right;\">\n",
              "      <th></th>\n",
              "      <th>winery</th>\n",
              "      <th>wine</th>\n",
              "      <th>year</th>\n",
              "      <th>rating</th>\n",
              "      <th>num_reviews</th>\n",
              "      <th>country</th>\n",
              "      <th>region</th>\n",
              "      <th>price</th>\n",
              "      <th>type</th>\n",
              "      <th>body</th>\n",
              "      <th>acidity</th>\n",
              "    </tr>\n",
              "  </thead>\n",
              "  <tbody>\n",
              "    <tr>\n",
              "      <th>0</th>\n",
              "      <td>Teso La Monja</td>\n",
              "      <td>Tinto</td>\n",
              "      <td>2013</td>\n",
              "      <td>4.9</td>\n",
              "      <td>58</td>\n",
              "      <td>Espana</td>\n",
              "      <td>Toro</td>\n",
              "      <td>995.00</td>\n",
              "      <td>Toro Red</td>\n",
              "      <td>5.0</td>\n",
              "      <td>3.0</td>\n",
              "    </tr>\n",
              "    <tr>\n",
              "      <th>1</th>\n",
              "      <td>Artadi</td>\n",
              "      <td>Vina El Pison</td>\n",
              "      <td>2018</td>\n",
              "      <td>4.9</td>\n",
              "      <td>31</td>\n",
              "      <td>Espana</td>\n",
              "      <td>Vino de Espana</td>\n",
              "      <td>313.50</td>\n",
              "      <td>Tempranillo</td>\n",
              "      <td>4.0</td>\n",
              "      <td>2.0</td>\n",
              "    </tr>\n",
              "    <tr>\n",
              "      <th>2</th>\n",
              "      <td>Vega Sicilia</td>\n",
              "      <td>Unico</td>\n",
              "      <td>2009</td>\n",
              "      <td>4.8</td>\n",
              "      <td>1793</td>\n",
              "      <td>Espana</td>\n",
              "      <td>Ribera del Duero</td>\n",
              "      <td>324.95</td>\n",
              "      <td>Ribera Del Duero Red</td>\n",
              "      <td>5.0</td>\n",
              "      <td>3.0</td>\n",
              "    </tr>\n",
              "    <tr>\n",
              "      <th>3</th>\n",
              "      <td>Vega Sicilia</td>\n",
              "      <td>Unico</td>\n",
              "      <td>1999</td>\n",
              "      <td>4.8</td>\n",
              "      <td>1705</td>\n",
              "      <td>Espana</td>\n",
              "      <td>Ribera del Duero</td>\n",
              "      <td>692.96</td>\n",
              "      <td>Ribera Del Duero Red</td>\n",
              "      <td>5.0</td>\n",
              "      <td>3.0</td>\n",
              "    </tr>\n",
              "    <tr>\n",
              "      <th>4</th>\n",
              "      <td>Vega Sicilia</td>\n",
              "      <td>Unico</td>\n",
              "      <td>1996</td>\n",
              "      <td>4.8</td>\n",
              "      <td>1309</td>\n",
              "      <td>Espana</td>\n",
              "      <td>Ribera del Duero</td>\n",
              "      <td>778.06</td>\n",
              "      <td>Ribera Del Duero Red</td>\n",
              "      <td>5.0</td>\n",
              "      <td>3.0</td>\n",
              "    </tr>\n",
              "  </tbody>\n",
              "</table>\n",
              "</div>\n",
              "      <button class=\"colab-df-convert\" onclick=\"convertToInteractive('df-3218c948-e7d2-457b-88e4-0d23058dec33')\"\n",
              "              title=\"Convert this dataframe to an interactive table.\"\n",
              "              style=\"display:none;\">\n",
              "        \n",
              "  <svg xmlns=\"http://www.w3.org/2000/svg\" height=\"24px\"viewBox=\"0 0 24 24\"\n",
              "       width=\"24px\">\n",
              "    <path d=\"M0 0h24v24H0V0z\" fill=\"none\"/>\n",
              "    <path d=\"M18.56 5.44l.94 2.06.94-2.06 2.06-.94-2.06-.94-.94-2.06-.94 2.06-2.06.94zm-11 1L8.5 8.5l.94-2.06 2.06-.94-2.06-.94L8.5 2.5l-.94 2.06-2.06.94zm10 10l.94 2.06.94-2.06 2.06-.94-2.06-.94-.94-2.06-.94 2.06-2.06.94z\"/><path d=\"M17.41 7.96l-1.37-1.37c-.4-.4-.92-.59-1.43-.59-.52 0-1.04.2-1.43.59L10.3 9.45l-7.72 7.72c-.78.78-.78 2.05 0 2.83L4 21.41c.39.39.9.59 1.41.59.51 0 1.02-.2 1.41-.59l7.78-7.78 2.81-2.81c.8-.78.8-2.07 0-2.86zM5.41 20L4 18.59l7.72-7.72 1.47 1.35L5.41 20z\"/>\n",
              "  </svg>\n",
              "      </button>\n",
              "      \n",
              "  <style>\n",
              "    .colab-df-container {\n",
              "      display:flex;\n",
              "      flex-wrap:wrap;\n",
              "      gap: 12px;\n",
              "    }\n",
              "\n",
              "    .colab-df-convert {\n",
              "      background-color: #E8F0FE;\n",
              "      border: none;\n",
              "      border-radius: 50%;\n",
              "      cursor: pointer;\n",
              "      display: none;\n",
              "      fill: #1967D2;\n",
              "      height: 32px;\n",
              "      padding: 0 0 0 0;\n",
              "      width: 32px;\n",
              "    }\n",
              "\n",
              "    .colab-df-convert:hover {\n",
              "      background-color: #E2EBFA;\n",
              "      box-shadow: 0px 1px 2px rgba(60, 64, 67, 0.3), 0px 1px 3px 1px rgba(60, 64, 67, 0.15);\n",
              "      fill: #174EA6;\n",
              "    }\n",
              "\n",
              "    [theme=dark] .colab-df-convert {\n",
              "      background-color: #3B4455;\n",
              "      fill: #D2E3FC;\n",
              "    }\n",
              "\n",
              "    [theme=dark] .colab-df-convert:hover {\n",
              "      background-color: #434B5C;\n",
              "      box-shadow: 0px 1px 3px 1px rgba(0, 0, 0, 0.15);\n",
              "      filter: drop-shadow(0px 1px 2px rgba(0, 0, 0, 0.3));\n",
              "      fill: #FFFFFF;\n",
              "    }\n",
              "  </style>\n",
              "\n",
              "      <script>\n",
              "        const buttonEl =\n",
              "          document.querySelector('#df-3218c948-e7d2-457b-88e4-0d23058dec33 button.colab-df-convert');\n",
              "        buttonEl.style.display =\n",
              "          google.colab.kernel.accessAllowed ? 'block' : 'none';\n",
              "\n",
              "        async function convertToInteractive(key) {\n",
              "          const element = document.querySelector('#df-3218c948-e7d2-457b-88e4-0d23058dec33');\n",
              "          const dataTable =\n",
              "            await google.colab.kernel.invokeFunction('convertToInteractive',\n",
              "                                                     [key], {});\n",
              "          if (!dataTable) return;\n",
              "\n",
              "          const docLinkHtml = 'Like what you see? Visit the ' +\n",
              "            '<a target=\"_blank\" href=https://colab.research.google.com/notebooks/data_table.ipynb>data table notebook</a>'\n",
              "            + ' to learn more about interactive tables.';\n",
              "          element.innerHTML = '';\n",
              "          dataTable['output_type'] = 'display_data';\n",
              "          await google.colab.output.renderOutput(dataTable, element);\n",
              "          const docLink = document.createElement('div');\n",
              "          docLink.innerHTML = docLinkHtml;\n",
              "          element.appendChild(docLink);\n",
              "        }\n",
              "      </script>\n",
              "    </div>\n",
              "  </div>\n",
              "  "
            ]
          },
          "metadata": {},
          "execution_count": 2
        }
      ],
      "source": [
        "# Read_Wine Data\n",
        "S_wine = \"/content/wines_SPA.csv\"\n",
        "df = pd.read_csv(S_wine)\n",
        "df.head()"
      ]
    },
    {
      "cell_type": "code",
      "source": [
        "# Looking for nulls and Data types\n",
        "df.info()"
      ],
      "metadata": {
        "colab": {
          "base_uri": "https://localhost:8080/"
        },
        "id": "G8WcBgbJAPRs",
        "outputId": "890ebe41-f93b-4ffd-9077-211aef7850bc"
      },
      "execution_count": 3,
      "outputs": [
        {
          "output_type": "stream",
          "name": "stdout",
          "text": [
            "<class 'pandas.core.frame.DataFrame'>\n",
            "RangeIndex: 7500 entries, 0 to 7499\n",
            "Data columns (total 11 columns):\n",
            " #   Column       Non-Null Count  Dtype  \n",
            "---  ------       --------------  -----  \n",
            " 0   winery       7500 non-null   object \n",
            " 1   wine         7500 non-null   object \n",
            " 2   year         7498 non-null   object \n",
            " 3   rating       7500 non-null   float64\n",
            " 4   num_reviews  7500 non-null   int64  \n",
            " 5   country      7500 non-null   object \n",
            " 6   region       7500 non-null   object \n",
            " 7   price        7500 non-null   float64\n",
            " 8   type         6955 non-null   object \n",
            " 9   body         6331 non-null   float64\n",
            " 10  acidity      6331 non-null   float64\n",
            "dtypes: float64(4), int64(1), object(6)\n",
            "memory usage: 644.7+ KB\n"
          ]
        }
      ]
    },
    {
      "cell_type": "code",
      "source": [
        "df.shape"
      ],
      "metadata": {
        "colab": {
          "base_uri": "https://localhost:8080/"
        },
        "id": "j0TRGqeVQRQC",
        "outputId": "fee4884e-06f9-4930-91c9-78925ee9a439"
      },
      "execution_count": 4,
      "outputs": [
        {
          "output_type": "execute_result",
          "data": {
            "text/plain": [
              "(7500, 11)"
            ]
          },
          "metadata": {},
          "execution_count": 4
        }
      ]
    },
    {
      "cell_type": "markdown",
      "source": [
        "**Delete unnecessary columns:**"
      ],
      "metadata": {
        "id": "-adVZ_pAYVLg"
      }
    },
    {
      "cell_type": "code",
      "source": [
        "# Delete unnecessary columns\n",
        "df.drop(['winery', 'type'], axis=1, inplace=True)"
      ],
      "metadata": {
        "id": "7Ps9AcMTYi85"
      },
      "execution_count": 5,
      "outputs": []
    },
    {
      "cell_type": "markdown",
      "source": [
        "**Delete duplicate rows:**\n"
      ],
      "metadata": {
        "id": "tHRyti-gYn_L"
      }
    },
    {
      "cell_type": "code",
      "source": [
        "# Drop duplicates\n",
        "df.drop_duplicates(inplace=True)"
      ],
      "metadata": {
        "id": "8Hj_jxX3YvyW"
      },
      "execution_count": 6,
      "outputs": []
    },
    {
      "cell_type": "markdown",
      "source": [
        "**Identify and address missing values:**"
      ],
      "metadata": {
        "id": "mCh5H0agZHcg"
      }
    },
    {
      "cell_type": "code",
      "source": [
        "# Identify:\n",
        "df.isna().sum()"
      ],
      "metadata": {
        "colab": {
          "base_uri": "https://localhost:8080/"
        },
        "id": "gq2q5LD2ZG6O",
        "outputId": "92786611-60f9-4f26-fb94-143656e15cf7"
      },
      "execution_count": 7,
      "outputs": [
        {
          "output_type": "execute_result",
          "data": {
            "text/plain": [
              "wine             0\n",
              "year             2\n",
              "rating           0\n",
              "num_reviews      0\n",
              "country          0\n",
              "region           0\n",
              "price            0\n",
              "body           271\n",
              "acidity        271\n",
              "dtype: int64"
            ]
          },
          "metadata": {},
          "execution_count": 7
        }
      ]
    },
    {
      "cell_type": "code",
      "source": [
        "# Fill in missing values with the mode for the 'year' column\n",
        "df['year'].fillna(df['year'].mode()[0], inplace=True)\n",
        "\n",
        "# Replace missing values with the median for the 'body' and 'acidity' columns\n",
        "df['body'].fillna(df['body'].median(), inplace=True)\n",
        "df['acidity'].fillna(df['acidity'].median(), inplace=True)\n"
      ],
      "metadata": {
        "id": "YZq3eNigZ9Z7"
      },
      "execution_count": 8,
      "outputs": []
    },
    {
      "cell_type": "code",
      "source": [
        "# Identify again:\n",
        "df.isna().sum()"
      ],
      "metadata": {
        "colab": {
          "base_uri": "https://localhost:8080/"
        },
        "id": "eATiFopfc464",
        "outputId": "dfdd5aa5-95ac-4a67-8c2b-bf09cfd386f3"
      },
      "execution_count": 9,
      "outputs": [
        {
          "output_type": "execute_result",
          "data": {
            "text/plain": [
              "wine           0\n",
              "year           0\n",
              "rating         0\n",
              "num_reviews    0\n",
              "country        0\n",
              "region         0\n",
              "price          0\n",
              "body           0\n",
              "acidity        0\n",
              "dtype: int64"
            ]
          },
          "metadata": {},
          "execution_count": 9
        }
      ]
    },
    {
      "cell_type": "markdown",
      "source": [
        "**Inconcistencies:**"
      ],
      "metadata": {
        "id": "TveYNqUYfgE2"
      }
    },
    {
      "cell_type": "code",
      "source": [
        "for i in df.columns:\n",
        "  print(f\"\\n{df[i].value_counts}\")"
      ],
      "metadata": {
        "colab": {
          "base_uri": "https://localhost:8080/"
        },
        "id": "jcp07Wo0fjzj",
        "outputId": "f9c81cd4-47c8-48d9-ff13-9b031ff9dfa2"
      },
      "execution_count": 10,
      "outputs": [
        {
          "output_type": "stream",
          "name": "stdout",
          "text": [
            "\n",
            "<bound method IndexOpsMixin.value_counts of 0                 Tinto\n",
            "1         Vina El Pison\n",
            "2                 Unico\n",
            "3                 Unico\n",
            "4                 Unico\n",
            "             ...       \n",
            "2046    Finca Terrerazo\n",
            "2047       Gran Reserva\n",
            "2048           Preludio\n",
            "2049         El Puntido\n",
            "6100       Rioja Blanco\n",
            "Name: wine, Length: 2048, dtype: object>\n",
            "\n",
            "<bound method IndexOpsMixin.value_counts of 0       2013\n",
            "1       2018\n",
            "2       2009\n",
            "3       1999\n",
            "4       1996\n",
            "        ... \n",
            "2046    2017\n",
            "2047    2011\n",
            "2048    2016\n",
            "2049    2005\n",
            "6100    2017\n",
            "Name: year, Length: 2048, dtype: object>\n",
            "\n",
            "<bound method IndexOpsMixin.value_counts of 0       4.9\n",
            "1       4.9\n",
            "2       4.8\n",
            "3       4.8\n",
            "4       4.8\n",
            "       ... \n",
            "2046    4.2\n",
            "2047    4.2\n",
            "2048    4.2\n",
            "2049    4.2\n",
            "6100    4.2\n",
            "Name: rating, Length: 2048, dtype: float64>\n",
            "\n",
            "<bound method IndexOpsMixin.value_counts of 0         58\n",
            "1         31\n",
            "2       1793\n",
            "3       1705\n",
            "4       1309\n",
            "        ... \n",
            "2046     390\n",
            "2047     389\n",
            "2048     388\n",
            "2049     384\n",
            "6100     421\n",
            "Name: num_reviews, Length: 2048, dtype: int64>\n",
            "\n",
            "<bound method IndexOpsMixin.value_counts of 0       Espana\n",
            "1       Espana\n",
            "2       Espana\n",
            "3       Espana\n",
            "4       Espana\n",
            "         ...  \n",
            "2046    Espana\n",
            "2047    Espana\n",
            "2048    Espana\n",
            "2049    Espana\n",
            "6100    Espana\n",
            "Name: country, Length: 2048, dtype: object>\n",
            "\n",
            "<bound method IndexOpsMixin.value_counts of 0                   Toro\n",
            "1         Vino de Espana\n",
            "2       Ribera del Duero\n",
            "3       Ribera del Duero\n",
            "4       Ribera del Duero\n",
            "              ...       \n",
            "2046        El Terrerazo\n",
            "2047    Ribera del Duero\n",
            "2048    Ribera del Duero\n",
            "2049               Rioja\n",
            "6100               Rioja\n",
            "Name: region, Length: 2048, dtype: object>\n",
            "\n",
            "<bound method IndexOpsMixin.value_counts of 0       995.00\n",
            "1       313.50\n",
            "2       324.95\n",
            "3       692.96\n",
            "4       778.06\n",
            "         ...  \n",
            "2046     24.45\n",
            "2047     64.50\n",
            "2048     31.63\n",
            "2049     73.00\n",
            "6100     29.15\n",
            "Name: price, Length: 2048, dtype: float64>\n",
            "\n",
            "<bound method IndexOpsMixin.value_counts of 0       5.0\n",
            "1       4.0\n",
            "2       5.0\n",
            "3       5.0\n",
            "4       5.0\n",
            "       ... \n",
            "2046    4.0\n",
            "2047    5.0\n",
            "2048    5.0\n",
            "2049    4.0\n",
            "6100    4.0\n",
            "Name: body, Length: 2048, dtype: float64>\n",
            "\n",
            "<bound method IndexOpsMixin.value_counts of 0       3.0\n",
            "1       2.0\n",
            "2       3.0\n",
            "3       3.0\n",
            "4       3.0\n",
            "       ... \n",
            "2046    3.0\n",
            "2047    3.0\n",
            "2048    3.0\n",
            "2049    3.0\n",
            "6100    3.0\n",
            "Name: acidity, Length: 2048, dtype: float64>\n"
          ]
        }
      ]
    },
    {
      "cell_type": "markdown",
      "source": [
        "### **<font color='#ffd966'>[NOTE]</font>**\n",
        "- in this ocation we were unable to find **Inconsistencies**, but we will probably find some when we start to prepare our data for machine learning. "
      ],
      "metadata": {
        "id": "bAcVJz69guIw"
      }
    },
    {
      "cell_type": "markdown",
      "source": [
        "# **<font color='#a966'>Part 3</font>**"
      ],
      "metadata": {
        "id": "4ZSqtzws6o3z"
      }
    },
    {
      "cell_type": "code",
      "source": [
        "import seaborn as sns\n",
        "import matplotlib.pyplot as plt\n",
        "\n",
        "# Create a correlation matrix\n",
        "corr = df.corr()\n",
        "\n",
        "# Create a heatmap to visualize correlations\n",
        "sns.heatmap(corr, annot=True, cmap=\"coolwarm\")\n",
        "plt.title(\"Correlation Heatmap\")\n",
        "plt.show()"
      ],
      "metadata": {
        "colab": {
          "base_uri": "https://localhost:8080/",
          "height": 507
        },
        "id": "2PNieWsm30QJ",
        "outputId": "506ebcae-1267-4c7f-f030-624c2c3ef3a0"
      },
      "execution_count": 11,
      "outputs": [
        {
          "output_type": "stream",
          "name": "stderr",
          "text": [
            "<ipython-input-11-edbc11fe9ec9>:5: FutureWarning: The default value of numeric_only in DataFrame.corr is deprecated. In a future version, it will default to False. Select only valid columns or specify the value of numeric_only to silence this warning.\n",
            "  corr = df.corr()\n"
          ]
        },
        {
          "output_type": "display_data",
          "data": {
            "text/plain": [
              "<Figure size 640x480 with 2 Axes>"
            ],
            "image/png": "[encoded data removed]"
          },
          "metadata": {}
        }
      ]
    },
    {
      "cell_type": "markdown",
      "source": [
        "### **Heat Map**\n",
        "- To identify any moderate or strong correlations between the target variable (rating) and the features"
      ],
      "metadata": {
        "id": "Ny7D4NQD9DD0"
      }
    },
    {
      "cell_type": "code",
      "source": [
        "plt.scatter(df[\"price\"], df[\"rating\"])\n",
        "plt.title(\"Price vs. Rating\")\n",
        "plt.xlabel(\"Price\")\n",
        "plt.ylabel(\"Rating\")\n",
        "plt.show()"
      ],
      "metadata": {
        "colab": {
          "base_uri": "https://localhost:8080/",
          "height": 472
        },
        "id": "3esLPt2l8zMm",
        "outputId": "ee53fab7-42d9-44a0-8115-ebd26d2c68a5"
      },
      "execution_count": 12,
      "outputs": [
        {
          "output_type": "display_data",
          "data": {
            "text/plain": [
              "<Figure size 640x480 with 1 Axes>"
            ],
            "image/png": "[encoded data removed]"
          },
          "metadata": {}
        }
      ]
    },
    {
      "cell_type": "markdown",
      "source": [
        "## Scatterplot\n",
        "- scatterplot of price vs. rating to see if there is any correlation between the two variables."
      ],
      "metadata": {
        "id": "8Q9DQN5_8IPM"
      }
    },
    {
      "cell_type": "markdown",
      "source": [
        "# Heat Map #1\n",
        "- Because from the correlation heatmap, we can see that there is a moderate positive correlation between price and rating, indicating that higher-priced wines tend to have higher ratings. This can be an insight for the stakeholder to consider when pricing their wines."
      ],
      "metadata": {
        "id": "DYHVwlwZ_qQh"
      }
    },
    {
      "cell_type": "markdown",
      "source": [
        "# **_ _ _ _ _ _ _ _ _ _ _ __ _**"
      ],
      "metadata": {
        "id": "0RsPWO9bw-Jw"
      }
    },
    {
      "cell_type": "markdown",
      "source": [
        "# **Predict the acidity of wine**"
      ],
      "metadata": {
        "id": "Vs8yxqPXwuOT"
      }
    },
    {
      "cell_type": "markdown",
      "source": [
        "#### **Why is this important?**"
      ],
      "metadata": {
        "id": "0zz-Px7mx4rK"
      }
    },
    {
      "cell_type": "code",
      "source": [
        "import seaborn as sns\n",
        "import matplotlib.pyplot as plt\n",
        "\n",
        "sns.lineplot(x='acidity', y='rating', data=df)\n",
        "plt.title('Acidity vs. Quality Ratings')\n",
        "plt.show()"
      ],
      "metadata": {
        "colab": {
          "base_uri": "https://localhost:8080/",
          "height": 472
        },
        "id": "B2EA5IAnxvR3",
        "outputId": "d9ebbb1c-e603-4779-ebf1-4c8a95db0e22"
      },
      "execution_count": 25,
      "outputs": [
        {
          "output_type": "display_data",
          "data": {
            "text/plain": [
              "<Figure size 640x480 with 1 Axes>"
            ],
            "image/png": "[encoded data removed]"
          },
          "metadata": {}
        }
      ]
    },
    {
      "cell_type": "markdown",
      "source": [
        "- **Because:** From the line plot, we can see that there is a moderate negative correlation between acidity and quality ratings. As the acidity level increases, the quality ratings tend to decrease"
      ],
      "metadata": {
        "id": "Jza4tBA9xlbY"
      }
    },
    {
      "cell_type": "markdown",
      "source": [
        "**<font color='#f74699'>Next, let's encode the categorical variables, 'country' and 'region', using one-hot encoding:</font>**"
      ],
      "metadata": {
        "id": "NPA8tJxXYdRO"
      }
    },
    {
      "cell_type": "code",
      "source": [
        "# One-hot encoding for 'country' and 'region' columns\n",
        "df_encoded = pd.get_dummies(df, columns=['country', 'region',\"wine\",])"
      ],
      "metadata": {
        "id": "V1hPTpxLKkre"
      },
      "execution_count": 13,
      "outputs": []
    },
    {
      "cell_type": "markdown",
      "source": [
        "- **and**"
      ],
      "metadata": {
        "id": "oxS_umtNhoZr"
      }
    },
    {
      "cell_type": "code",
      "source": [
        "# Convert categorical columns to one-hot encoded columns\n",
        "#df_encoded = pd.get_dummies(df, columns=['wine',])"
      ],
      "metadata": {
        "id": "DWMzHDyDhjh9"
      },
      "execution_count": 14,
      "outputs": []
    },
    {
      "cell_type": "markdown",
      "source": [
        "**<font color='#f74699'>Now we can start with the modeling phase. Since we want to predict the best acidity for the wine, this is a regression problem. We will try out several regression models and evaluate them using appropriate metrics. We will also use GridSearchCV to tune the hyperparameters of each model:</font>**"
      ],
      "metadata": {
        "id": "_hicUggOZA1l"
      }
    },
    {
      "cell_type": "markdown",
      "source": [
        "- **Imports:**"
      ],
      "metadata": {
        "id": "yGMplP40by6I"
      }
    },
    {
      "cell_type": "code",
      "source": [
        "from sklearn.model_selection import train_test_split, GridSearchCV\n",
        "from sklearn.linear_model import LinearRegression, Lasso, Ridge\n",
        "from sklearn.tree import DecisionTreeRegressor\n",
        "from sklearn.ensemble import RandomForestRegressor\n",
        "from sklearn.metrics import mean_squared_error, r2_score\n",
        "from sklearn.preprocessing import StandardScaler\n",
        "from sklearn.decomposition import PCA\n",
        "import numpy as np"
      ],
      "metadata": {
        "id": "t2LyjFJSZXlG"
      },
      "execution_count": 15,
      "outputs": []
    },
    {
      "cell_type": "markdown",
      "source": [
        "**Split Data:**"
      ],
      "metadata": {
        "id": "btrcgMHIb5rF"
      }
    },
    {
      "cell_type": "code",
      "source": [
        "# Define X and y\n",
        "X = df_encoded.drop(['acidity'], axis=1)\n",
        "y = df_encoded['acidity']\n",
        "\n",
        "# Split the data into training and test sets\n",
        "X_train, X_test, y_train, y_test = train_test_split(X, y, test_size=0.2, random_state=42)"
      ],
      "metadata": {
        "id": "R97-fn9ob-IH"
      },
      "execution_count": 16,
      "outputs": []
    },
    {
      "cell_type": "markdown",
      "source": [
        "### **string \"N.V \" in the year column:**"
      ],
      "metadata": {
        "id": "hyjGcVa3mXTj"
      }
    },
    {
      "cell_type": "markdown",
      "source": [
        "- **<font color='#f74699'>The next Inconsistency was found when trying to run my model</font>**"
      ],
      "metadata": {
        "id": "KNkbjH_tmJaw"
      }
    },
    {
      "cell_type": "code",
      "source": [
        "# Create a list to store the columns that contain \"N.V.\"\n",
        "nv_columns = []\n",
        "\n",
        "# Check each column in X_train for \"N.V.\" and append the column name to nv_columns if found\n",
        "for col in X_train.columns:\n",
        "    if X_train[col].apply(lambda x: \"N.V.\" in str(x)).any():\n",
        "        nv_columns.append(col)\n",
        "\n",
        "# Print the columns that contain \"N.V.\"\n",
        "print(\"Columns with N.V. values:\", nv_columns)\n"
      ],
      "metadata": {
        "colab": {
          "base_uri": "https://localhost:8080/"
        },
        "id": "-TfZjPK1kzDr",
        "outputId": "9609a13c-193f-40eb-9705-9f99fc082b9a"
      },
      "execution_count": 20,
      "outputs": [
        {
          "output_type": "stream",
          "name": "stdout",
          "text": [
            "Columns with N.V. values: ['year']\n"
          ]
        }
      ]
    },
    {
      "cell_type": "markdown",
      "source": [
        "- **Fix it by replacing:**"
      ],
      "metadata": {
        "id": "SJEyo7SKmrVt"
      }
    },
    {
      "cell_type": "code",
      "source": [
        "# replace \"N.V.\" string with mode value\n",
        "mode_value = X_train['year'].mode()[0]\n",
        "X_train['year'] = X_train['year'].replace('N.V.', mode_value).astype(int)\n",
        "X_test['year'] = X_test['year'].replace('N.V.', mode_value).astype(int)"
      ],
      "metadata": {
        "id": "8TEyhALDmwVg"
      },
      "execution_count": 21,
      "outputs": []
    },
    {
      "cell_type": "markdown",
      "source": [
        "**Create the Model to Predict the best acidity:**"
      ],
      "metadata": {
        "id": "0U1y0rS6cD3h"
      }
    },
    {
      "cell_type": "code",
      "source": [
        "# Standardize the data\n",
        "scaler = StandardScaler()\n",
        "X_train_std = scaler.fit_transform(X_train)\n",
        "X_test_std = scaler.transform(X_test)\n",
        "\n",
        "# Perform PCA on the standardized data\n",
        "pca = PCA(n_components=10)\n",
        "X_train_pca = pca.fit_transform(X_train_std)\n",
        "X_test_pca = pca.transform(X_test_std)\n",
        "\n",
        "# Define a list of models to train and evaluate\n",
        "models = [\n",
        "    ('Linear Regression', LinearRegression()),\n",
        "    ('Lasso', Lasso()),\n",
        "    ('Ridge', Ridge()),\n",
        "    ('Decision Tree', DecisionTreeRegressor()),\n",
        "    ('Random Forest', RandomForestRegressor())\n",
        "]\n",
        "\n",
        "# Define a dictionary of hyperparameters to search over for each model\n",
        "param_grids = {\n",
        "    'Linear Regression': {},\n",
        "    'Lasso': {'alpha': [0.01, 0.1, 1.0]},\n",
        "    'Ridge': {'alpha': [0.01, 0.1, 1.0]},\n",
        "    'Decision Tree': {'max_depth': [5, 10, 15]},\n",
        "    'Random Forest': {'n_estimators': [100, 200], 'max_depth': [5, 10, 15]}\n",
        "}\n",
        "\n",
        "# Train and evaluate each model with multiple metrics\n",
        "best_models = {}\n",
        "for name, model in models:\n",
        "    # Train the model on the training set\n",
        "    gs = GridSearchCV(model, param_grids[name], cv=5, scoring='neg_mean_squared_error')\n",
        "    gs.fit(X_train_pca, y_train)\n",
        "    \n",
        "    # Evaluate the model on the training set\n",
        "    y_train_pred = gs.predict(X_train_pca)\n",
        "    train_rmse = np.sqrt(mean_squared_error(y_train, y_train_pred))\n",
        "    train_r2 = r2_score(y_train, y_train_pred)\n",
        "    \n",
        "    # Evaluate the model on the test set\n",
        "    y_test_pred = gs.predict(X_test_pca)\n",
        "    test_rmse = np.sqrt(mean_squared_error(y_test, y_test_pred))\n",
        "    test_r2 = r2_score(y_test, y_test_pred)\n",
        "    \n",
        "    # Store the best model and its metrics\n",
        "    best_models[name] = {\n",
        "        'model': gs.best_estimator_,\n",
        "        'train_rmse': train_rmse,\n",
        "        'train_r2': train_r2,\n",
        "        'test_rmse': test_rmse,\n",
        "        'test_r2': test_r2\n",
        "    }\n",
        "    \n",
        "    # Print the model's metrics\n",
        "    print(name)\n",
        "    print('Best hyperparameters:', gs.best_params_)\n",
        "    print('Train RMSE:', train_rmse)\n",
        "    print('Train R^2:', train_r2)\n",
        "    print('Test RMSE:', test_rmse)\n",
        "    print('Test R^2:', test_r2)\n",
        "    print('---')\n",
        "\n",
        "#"
      ],
      "metadata": {
        "colab": {
          "base_uri": "https://localhost:8080/"
        },
        "id": "kDkjAJmrcKzh",
        "outputId": "8661ed8f-eab5-4578-d298-291e4b98cf03"
      },
      "execution_count": 22,
      "outputs": [
        {
          "output_type": "stream",
          "name": "stdout",
          "text": [
            "Linear Regression\n",
            "Best hyperparameters: {}\n",
            "Train RMSE: 0.2629553583573174\n",
            "Train R^2: 0.2768135208300736\n",
            "Test RMSE: 0.2648541512311118\n",
            "Test R^2: 0.34343919980881554\n",
            "---\n",
            "Lasso\n",
            "Best hyperparameters: {'alpha': 0.01}\n",
            "Train RMSE: 0.2637365567924723\n",
            "Train R^2: 0.2725101946628312\n",
            "Test RMSE: 0.2677832492604458\n",
            "Test R^2: 0.32883670885014316\n",
            "---\n",
            "Ridge\n",
            "Best hyperparameters: {'alpha': 1.0}\n",
            "Train RMSE: 0.26295536236357353\n",
            "Train R^2: 0.2768134987938595\n",
            "Test RMSE: 0.2648621675130928\n",
            "Test R^2: 0.34339945524647975\n",
            "---\n",
            "Decision Tree\n",
            "Best hyperparameters: {'max_depth': 5}\n",
            "Train RMSE: 0.12020383029973972\n",
            "Train R^2: 0.8488796811667748\n",
            "Test RMSE: 0.25199745464197726\n",
            "Test R^2: 0.4056343679148917\n",
            "---\n",
            "Random Forest\n",
            "Best hyperparameters: {'max_depth': 15, 'n_estimators': 100}\n",
            "Train RMSE: 0.06041132918193982\n",
            "Train R^2: 0.9618299235027209\n",
            "Test RMSE: 0.2394487975038009\n",
            "Test R^2: 0.4633554762899037\n",
            "---\n"
          ]
        }
      ]
    },
    {
      "cell_type": "markdown",
      "source": [
        "- **<font color='#fa699'>Disclaimer:</font>** I asked ChatGPT for help when creating the hyperparameters, but it was debuged by me.\n",
        "\n",
        "- **Explanation:** https://docs.google.com/document/d/1IlN2uiBfTWj03CAUcdUezWhJ-bpNB-LFxeRlVLcEBwI/edit?usp=sharing"
      ],
      "metadata": {
        "id": "YXgmnDbbZQb7"
      }
    },
    {
      "cell_type": "markdown",
      "source": [
        "**Based on the metrics, the production model should be the Random Forest Regressor as it has the lowest test RMSE (0.239) and highest test R-squared (0.463) compared to the other models. The RMSE is a measure of the model's prediction error, and in this case, the lower the RMSE, the better the model's prediction. The R-squared value measures the proportion of variance in the target variable that can be explained by the model, and a higher value indicates a better fit. Therefore, based on these metrics, the Random Forest Regressor seems to be the best model for predicting the acidity of wine.**"
      ],
      "metadata": {
        "id": "_R7F_zEvnmZ8"
      }
    }
  ]
}